{
 "cells": [
  {
   "cell_type": "markdown",
   "metadata": {},
   "source": [
    "### Introduction"
   ]
  },
  {
   "cell_type": "markdown",
   "metadata": {},
   "source": [
    "In this project we will predict the number of bikes people rented in a given hour in Washington, D.C., using and comparing the performance of three machine learning models (Linear Regression, Decision Trees and Random Forests). \n",
    "\n",
    "The dataset can be downloaded from the [University of California](http://archive.ics.uci.edu/ml/datasets/Bike+Sharing+Dataset). It contains 17380 rows and contains the following columns:\n",
    "\n",
    "- instant: A unique sequential ID number for each row\n",
    "- dteday: The date of the rentals\n",
    "- season: The season in which the rentals occurred\n",
    "- yr: The year the rentals occurred\n",
    "- mnth: The month the rentals occurred\n",
    "- hr: The hour the rentals occurred\n",
    "- holiday: Whether or not the day was a holiday\n",
    "- weekday: The day of the week (as a number, 0 to 7)\n",
    "- workingday: Whether or not the day was a working day\n",
    "- weathersit: The weather (as a categorical variable)\n",
    "- temp: The temperature, on a 0-1 scale\n",
    "- atemp: The adjusted temperature\n",
    "- hum: The humidity, on a 0-1 scale\n",
    "- windspeed: The wind speed, on a 0-1 scale\n",
    "- casual: The number of casual riders (people who hadn't previously signed up with the bike sharing program)\n",
    "- registered: The number of registered riders (people who had already signed up)\n",
    "- cnt: The total number of bike rentals (casual + registered)"
   ]
  },
  {
   "cell_type": "markdown",
   "metadata": {},
   "source": [
    "### Reading the data\n"
   ]
  },
  {
   "cell_type": "code",
   "execution_count": 1,
   "metadata": {},
   "outputs": [
    {
     "data": {
      "text/html": [
       "<div>\n",
       "<style scoped>\n",
       "    .dataframe tbody tr th:only-of-type {\n",
       "        vertical-align: middle;\n",
       "    }\n",
       "\n",
       "    .dataframe tbody tr th {\n",
       "        vertical-align: top;\n",
       "    }\n",
       "\n",
       "    .dataframe thead th {\n",
       "        text-align: right;\n",
       "    }\n",
       "</style>\n",
       "<table border=\"1\" class=\"dataframe\">\n",
       "  <thead>\n",
       "    <tr style=\"text-align: right;\">\n",
       "      <th></th>\n",
       "      <th>instant</th>\n",
       "      <th>dteday</th>\n",
       "      <th>season</th>\n",
       "      <th>yr</th>\n",
       "      <th>mnth</th>\n",
       "      <th>hr</th>\n",
       "      <th>holiday</th>\n",
       "      <th>weekday</th>\n",
       "      <th>workingday</th>\n",
       "      <th>weathersit</th>\n",
       "      <th>temp</th>\n",
       "      <th>atemp</th>\n",
       "      <th>hum</th>\n",
       "      <th>windspeed</th>\n",
       "      <th>casual</th>\n",
       "      <th>registered</th>\n",
       "      <th>cnt</th>\n",
       "    </tr>\n",
       "  </thead>\n",
       "  <tbody>\n",
       "    <tr>\n",
       "      <th>0</th>\n",
       "      <td>1</td>\n",
       "      <td>2011-01-01</td>\n",
       "      <td>1</td>\n",
       "      <td>0</td>\n",
       "      <td>1</td>\n",
       "      <td>0</td>\n",
       "      <td>0</td>\n",
       "      <td>6</td>\n",
       "      <td>0</td>\n",
       "      <td>1</td>\n",
       "      <td>0.24</td>\n",
       "      <td>0.2879</td>\n",
       "      <td>0.81</td>\n",
       "      <td>0.0</td>\n",
       "      <td>3</td>\n",
       "      <td>13</td>\n",
       "      <td>16</td>\n",
       "    </tr>\n",
       "    <tr>\n",
       "      <th>1</th>\n",
       "      <td>2</td>\n",
       "      <td>2011-01-01</td>\n",
       "      <td>1</td>\n",
       "      <td>0</td>\n",
       "      <td>1</td>\n",
       "      <td>1</td>\n",
       "      <td>0</td>\n",
       "      <td>6</td>\n",
       "      <td>0</td>\n",
       "      <td>1</td>\n",
       "      <td>0.22</td>\n",
       "      <td>0.2727</td>\n",
       "      <td>0.80</td>\n",
       "      <td>0.0</td>\n",
       "      <td>8</td>\n",
       "      <td>32</td>\n",
       "      <td>40</td>\n",
       "    </tr>\n",
       "    <tr>\n",
       "      <th>2</th>\n",
       "      <td>3</td>\n",
       "      <td>2011-01-01</td>\n",
       "      <td>1</td>\n",
       "      <td>0</td>\n",
       "      <td>1</td>\n",
       "      <td>2</td>\n",
       "      <td>0</td>\n",
       "      <td>6</td>\n",
       "      <td>0</td>\n",
       "      <td>1</td>\n",
       "      <td>0.22</td>\n",
       "      <td>0.2727</td>\n",
       "      <td>0.80</td>\n",
       "      <td>0.0</td>\n",
       "      <td>5</td>\n",
       "      <td>27</td>\n",
       "      <td>32</td>\n",
       "    </tr>\n",
       "    <tr>\n",
       "      <th>3</th>\n",
       "      <td>4</td>\n",
       "      <td>2011-01-01</td>\n",
       "      <td>1</td>\n",
       "      <td>0</td>\n",
       "      <td>1</td>\n",
       "      <td>3</td>\n",
       "      <td>0</td>\n",
       "      <td>6</td>\n",
       "      <td>0</td>\n",
       "      <td>1</td>\n",
       "      <td>0.24</td>\n",
       "      <td>0.2879</td>\n",
       "      <td>0.75</td>\n",
       "      <td>0.0</td>\n",
       "      <td>3</td>\n",
       "      <td>10</td>\n",
       "      <td>13</td>\n",
       "    </tr>\n",
       "    <tr>\n",
       "      <th>4</th>\n",
       "      <td>5</td>\n",
       "      <td>2011-01-01</td>\n",
       "      <td>1</td>\n",
       "      <td>0</td>\n",
       "      <td>1</td>\n",
       "      <td>4</td>\n",
       "      <td>0</td>\n",
       "      <td>6</td>\n",
       "      <td>0</td>\n",
       "      <td>1</td>\n",
       "      <td>0.24</td>\n",
       "      <td>0.2879</td>\n",
       "      <td>0.75</td>\n",
       "      <td>0.0</td>\n",
       "      <td>0</td>\n",
       "      <td>1</td>\n",
       "      <td>1</td>\n",
       "    </tr>\n",
       "  </tbody>\n",
       "</table>\n",
       "</div>"
      ],
      "text/plain": [
       "   instant      dteday  season  yr  mnth  hr  holiday  weekday  workingday  \\\n",
       "0        1  2011-01-01       1   0     1   0        0        6           0   \n",
       "1        2  2011-01-01       1   0     1   1        0        6           0   \n",
       "2        3  2011-01-01       1   0     1   2        0        6           0   \n",
       "3        4  2011-01-01       1   0     1   3        0        6           0   \n",
       "4        5  2011-01-01       1   0     1   4        0        6           0   \n",
       "\n",
       "   weathersit  temp   atemp   hum  windspeed  casual  registered  cnt  \n",
       "0           1  0.24  0.2879  0.81        0.0       3          13   16  \n",
       "1           1  0.22  0.2727  0.80        0.0       8          32   40  \n",
       "2           1  0.22  0.2727  0.80        0.0       5          27   32  \n",
       "3           1  0.24  0.2879  0.75        0.0       3          10   13  \n",
       "4           1  0.24  0.2879  0.75        0.0       0           1    1  "
      ]
     },
     "execution_count": 1,
     "metadata": {},
     "output_type": "execute_result"
    }
   ],
   "source": [
    "import pandas as pd\n",
    "\n",
    "bike_rentals = pd.read_csv('bike_rental_hour.csv')\n",
    "bike_rentals.head()"
   ]
  },
  {
   "cell_type": "code",
   "execution_count": 2,
   "metadata": {},
   "outputs": [
    {
     "data": {
      "text/plain": [
       "<matplotlib.axes._subplots.AxesSubplot at 0xb16f7b0>"
      ]
     },
     "execution_count": 2,
     "metadata": {},
     "output_type": "execute_result"
    },
    {
     "data": {
      "image/png": "[encoded data removed]",
      "text/plain": [
       "<Figure size 432x288 with 1 Axes>"
      ]
     },
     "metadata": {},
     "output_type": "display_data"
    }
   ],
   "source": [
    "%matplotlib inline\n",
    "\n",
    "import matplotlib.pyplot as plt\n",
    "plt.style.use('fivethirtyeight')\n",
    "\n",
    "bike_rentals['cnt'].hist()"
   ]
  },
  {
   "cell_type": "markdown",
   "metadata": {},
   "source": [
    "Looking at this histogram, we can see there's a concentration of a daily low numbers of rents (0 - 100) "
   ]
  },
  {
   "cell_type": "code",
   "execution_count": 3,
   "metadata": {},
   "outputs": [
    {
     "data": {
      "text/plain": [
       "instant       0.278379\n",
       "season        0.178056\n",
       "yr            0.250495\n",
       "mnth          0.120638\n",
       "hr            0.394071\n",
       "holiday      -0.030927\n",
       "weekday       0.026900\n",
       "workingday    0.030284\n",
       "weathersit   -0.142426\n",
       "temp          0.404772\n",
       "atemp         0.400929\n",
       "hum          -0.322911\n",
       "windspeed     0.093234\n",
       "casual        0.694564\n",
       "registered    0.972151\n",
       "cnt           1.000000\n",
       "Name: cnt, dtype: float64"
      ]
     },
     "execution_count": 3,
     "metadata": {},
     "output_type": "execute_result"
    }
   ],
   "source": [
    "bike_rentals.corr()['cnt']"
   ]
  },
  {
   "cell_type": "markdown",
   "metadata": {},
   "source": [
    "Looking at the correlations, we can see that the two most correlated columns are casual and registered.This is expected, given the number we are trying to predict (cnt) are a sum of casual and registered (we will remove those columns in the next step). We will also drop the instant column, as it doesn't provides with relevant information.\n",
    "\n",
    "Also, some columns need to be processed before applying the machine learning models, like the season (categorial variable that should be transformed into dummies). We will do those processing in the next step."
   ]
  },
  {
   "cell_type": "markdown",
   "metadata": {},
   "source": [
    "### Processing the data"
   ]
  },
  {
   "cell_type": "code",
   "execution_count": 4,
   "metadata": {},
   "outputs": [
    {
     "data": {
      "text/plain": [
       "Index(['dteday', 'season', 'yr', 'mnth', 'hr', 'holiday', 'weekday',\n",
       "       'workingday', 'weathersit', 'temp', 'atemp', 'hum', 'windspeed', 'cnt'],\n",
       "      dtype='object')"
      ]
     },
     "execution_count": 4,
     "metadata": {},
     "output_type": "execute_result"
    }
   ],
   "source": [
    "bike_rentals.drop(columns=['instant','casual', 'registered'], axis=1, inplace=True)\n",
    "bike_rentals.columns"
   ]
  },
  {
   "cell_type": "markdown",
   "metadata": {},
   "source": [
    "The yr and the mnth columns comes from the dteday column, so to avoid repeating information, we will remove the dteday column."
   ]
  },
  {
   "cell_type": "code",
   "execution_count": 5,
   "metadata": {},
   "outputs": [
    {
     "data": {
      "text/plain": [
       "Index(['season', 'yr', 'mnth', 'hr', 'holiday', 'weekday', 'workingday',\n",
       "       'weathersit', 'temp', 'atemp', 'hum', 'windspeed', 'cnt'],\n",
       "      dtype='object')"
      ]
     },
     "execution_count": 5,
     "metadata": {},
     "output_type": "execute_result"
    }
   ],
   "source": [
    "bike_rentals.drop(columns=['dteday'], axis=1, inplace=True)\n",
    "bike_rentals.columns"
   ]
  },
  {
   "cell_type": "markdown",
   "metadata": {},
   "source": [
    "Instead of using the hr column, we will transform this information into a new columns called time_label, that will have four possible values:\n",
    "\n",
    "- 'Morning': Hour from 6 to 12 \n",
    "- 'Afternoon': Hour from 12 to 18 \n",
    "- 'Evening': Hour from 18 to 24 \n",
    "- 'Night': Hour from 0 to 6"
   ]
  },
  {
   "cell_type": "code",
   "execution_count": 6,
   "metadata": {},
   "outputs": [
    {
     "data": {
      "text/html": [
       "<div>\n",
       "<style scoped>\n",
       "    .dataframe tbody tr th:only-of-type {\n",
       "        vertical-align: middle;\n",
       "    }\n",
       "\n",
       "    .dataframe tbody tr th {\n",
       "        vertical-align: top;\n",
       "    }\n",
       "\n",
       "    .dataframe thead th {\n",
       "        text-align: right;\n",
       "    }\n",
       "</style>\n",
       "<table border=\"1\" class=\"dataframe\">\n",
       "  <thead>\n",
       "    <tr style=\"text-align: right;\">\n",
       "      <th></th>\n",
       "      <th>season</th>\n",
       "      <th>yr</th>\n",
       "      <th>mnth</th>\n",
       "      <th>holiday</th>\n",
       "      <th>weekday</th>\n",
       "      <th>workingday</th>\n",
       "      <th>weathersit</th>\n",
       "      <th>temp</th>\n",
       "      <th>atemp</th>\n",
       "      <th>hum</th>\n",
       "      <th>windspeed</th>\n",
       "      <th>cnt</th>\n",
       "      <th>time_label</th>\n",
       "    </tr>\n",
       "  </thead>\n",
       "  <tbody>\n",
       "    <tr>\n",
       "      <th>0</th>\n",
       "      <td>1</td>\n",
       "      <td>0</td>\n",
       "      <td>1</td>\n",
       "      <td>0</td>\n",
       "      <td>6</td>\n",
       "      <td>0</td>\n",
       "      <td>1</td>\n",
       "      <td>0.24</td>\n",
       "      <td>0.2879</td>\n",
       "      <td>0.81</td>\n",
       "      <td>0.0000</td>\n",
       "      <td>16</td>\n",
       "      <td>Night</td>\n",
       "    </tr>\n",
       "    <tr>\n",
       "      <th>1</th>\n",
       "      <td>1</td>\n",
       "      <td>0</td>\n",
       "      <td>1</td>\n",
       "      <td>0</td>\n",
       "      <td>6</td>\n",
       "      <td>0</td>\n",
       "      <td>1</td>\n",
       "      <td>0.22</td>\n",
       "      <td>0.2727</td>\n",
       "      <td>0.80</td>\n",
       "      <td>0.0000</td>\n",
       "      <td>40</td>\n",
       "      <td>Night</td>\n",
       "    </tr>\n",
       "    <tr>\n",
       "      <th>2</th>\n",
       "      <td>1</td>\n",
       "      <td>0</td>\n",
       "      <td>1</td>\n",
       "      <td>0</td>\n",
       "      <td>6</td>\n",
       "      <td>0</td>\n",
       "      <td>1</td>\n",
       "      <td>0.22</td>\n",
       "      <td>0.2727</td>\n",
       "      <td>0.80</td>\n",
       "      <td>0.0000</td>\n",
       "      <td>32</td>\n",
       "      <td>Night</td>\n",
       "    </tr>\n",
       "    <tr>\n",
       "      <th>3</th>\n",
       "      <td>1</td>\n",
       "      <td>0</td>\n",
       "      <td>1</td>\n",
       "      <td>0</td>\n",
       "      <td>6</td>\n",
       "      <td>0</td>\n",
       "      <td>1</td>\n",
       "      <td>0.24</td>\n",
       "      <td>0.2879</td>\n",
       "      <td>0.75</td>\n",
       "      <td>0.0000</td>\n",
       "      <td>13</td>\n",
       "      <td>Night</td>\n",
       "    </tr>\n",
       "    <tr>\n",
       "      <th>4</th>\n",
       "      <td>1</td>\n",
       "      <td>0</td>\n",
       "      <td>1</td>\n",
       "      <td>0</td>\n",
       "      <td>6</td>\n",
       "      <td>0</td>\n",
       "      <td>1</td>\n",
       "      <td>0.24</td>\n",
       "      <td>0.2879</td>\n",
       "      <td>0.75</td>\n",
       "      <td>0.0000</td>\n",
       "      <td>1</td>\n",
       "      <td>Night</td>\n",
       "    </tr>\n",
       "    <tr>\n",
       "      <th>5</th>\n",
       "      <td>1</td>\n",
       "      <td>0</td>\n",
       "      <td>1</td>\n",
       "      <td>0</td>\n",
       "      <td>6</td>\n",
       "      <td>0</td>\n",
       "      <td>2</td>\n",
       "      <td>0.24</td>\n",
       "      <td>0.2576</td>\n",
       "      <td>0.75</td>\n",
       "      <td>0.0896</td>\n",
       "      <td>1</td>\n",
       "      <td>Night</td>\n",
       "    </tr>\n",
       "    <tr>\n",
       "      <th>6</th>\n",
       "      <td>1</td>\n",
       "      <td>0</td>\n",
       "      <td>1</td>\n",
       "      <td>0</td>\n",
       "      <td>6</td>\n",
       "      <td>0</td>\n",
       "      <td>1</td>\n",
       "      <td>0.22</td>\n",
       "      <td>0.2727</td>\n",
       "      <td>0.80</td>\n",
       "      <td>0.0000</td>\n",
       "      <td>2</td>\n",
       "      <td>Morning</td>\n",
       "    </tr>\n",
       "    <tr>\n",
       "      <th>7</th>\n",
       "      <td>1</td>\n",
       "      <td>0</td>\n",
       "      <td>1</td>\n",
       "      <td>0</td>\n",
       "      <td>6</td>\n",
       "      <td>0</td>\n",
       "      <td>1</td>\n",
       "      <td>0.20</td>\n",
       "      <td>0.2576</td>\n",
       "      <td>0.86</td>\n",
       "      <td>0.0000</td>\n",
       "      <td>3</td>\n",
       "      <td>Morning</td>\n",
       "    </tr>\n",
       "    <tr>\n",
       "      <th>8</th>\n",
       "      <td>1</td>\n",
       "      <td>0</td>\n",
       "      <td>1</td>\n",
       "      <td>0</td>\n",
       "      <td>6</td>\n",
       "      <td>0</td>\n",
       "      <td>1</td>\n",
       "      <td>0.24</td>\n",
       "      <td>0.2879</td>\n",
       "      <td>0.75</td>\n",
       "      <td>0.0000</td>\n",
       "      <td>8</td>\n",
       "      <td>Morning</td>\n",
       "    </tr>\n",
       "    <tr>\n",
       "      <th>9</th>\n",
       "      <td>1</td>\n",
       "      <td>0</td>\n",
       "      <td>1</td>\n",
       "      <td>0</td>\n",
       "      <td>6</td>\n",
       "      <td>0</td>\n",
       "      <td>1</td>\n",
       "      <td>0.32</td>\n",
       "      <td>0.3485</td>\n",
       "      <td>0.76</td>\n",
       "      <td>0.0000</td>\n",
       "      <td>14</td>\n",
       "      <td>Morning</td>\n",
       "    </tr>\n",
       "  </tbody>\n",
       "</table>\n",
       "</div>"
      ],
      "text/plain": [
       "   season  yr  mnth  holiday  weekday  workingday  weathersit  temp   atemp  \\\n",
       "0       1   0     1        0        6           0           1  0.24  0.2879   \n",
       "1       1   0     1        0        6           0           1  0.22  0.2727   \n",
       "2       1   0     1        0        6           0           1  0.22  0.2727   \n",
       "3       1   0     1        0        6           0           1  0.24  0.2879   \n",
       "4       1   0     1        0        6           0           1  0.24  0.2879   \n",
       "5       1   0     1        0        6           0           2  0.24  0.2576   \n",
       "6       1   0     1        0        6           0           1  0.22  0.2727   \n",
       "7       1   0     1        0        6           0           1  0.20  0.2576   \n",
       "8       1   0     1        0        6           0           1  0.24  0.2879   \n",
       "9       1   0     1        0        6           0           1  0.32  0.3485   \n",
       "\n",
       "    hum  windspeed  cnt time_label  \n",
       "0  0.81     0.0000   16      Night  \n",
       "1  0.80     0.0000   40      Night  \n",
       "2  0.80     0.0000   32      Night  \n",
       "3  0.75     0.0000   13      Night  \n",
       "4  0.75     0.0000    1      Night  \n",
       "5  0.75     0.0896    1      Night  \n",
       "6  0.80     0.0000    2    Morning  \n",
       "7  0.86     0.0000    3    Morning  \n",
       "8  0.75     0.0000    8    Morning  \n",
       "9  0.76     0.0000   14    Morning  "
      ]
     },
     "execution_count": 6,
     "metadata": {},
     "output_type": "execute_result"
    }
   ],
   "source": [
    "def convert_hr(number):\n",
    "    if number >= 6 and number < 12:\n",
    "        return 'Morning'\n",
    "    elif number >= 12 and number < 18:\n",
    "        return 'Afternoon'\n",
    "    elif number >= 18 and number < 24:\n",
    "        return 'Evening'\n",
    "    else:\n",
    "        return 'Night'\n",
    "\n",
    "bike_rentals['time_label'] = bike_rentals['hr'].apply(convert_hr)\n",
    "bike_rentals.drop(columns=['hr'], axis=1, inplace=True)\n",
    "bike_rentals.head(10)"
   ]
  },
  {
   "cell_type": "markdown",
   "metadata": {},
   "source": [
    "The weekday columns varies from 0 to 6 and is as numeric type. This column should be treated as categorical, so we will convert it to an object format so we can use dummies in the next steps.\n",
    "\n",
    "The same logic can be applied to the season column (which varies from 1 to 4), the mnth column (which varies from 1 to 12) and the weathersit (varies from 1 to 4)."
   ]
  },
  {
   "cell_type": "code",
   "execution_count": 7,
   "metadata": {},
   "outputs": [],
   "source": [
    "bike_rentals['weekday'] = bike_rentals['weekday'].astype('str')\n",
    "bike_rentals['season'] = bike_rentals['season'].astype('str')\n",
    "bike_rentals['mnth'] = bike_rentals['mnth'].astype('str')\n",
    "bike_rentals['weathersit'] = bike_rentals['weathersit'].astype('str')"
   ]
  },
  {
   "cell_type": "markdown",
   "metadata": {},
   "source": [
    "The remaining columns are either binary (holiday, workingday) or continuous (temp, atemp, hum and windspeed) and doesn't need to be processed further."
   ]
  },
  {
   "cell_type": "markdown",
   "metadata": {},
   "source": [
    "### Selecting features"
   ]
  },
  {
   "cell_type": "markdown",
   "metadata": {},
   "source": [
    "We will test the machine learning models varying the number of features. Before doing that we need to rank those features (so we can select them by order). \n",
    "\n",
    "This rank will be done by using only these feature for predicting the cnt variable (using a Linear Regression) and returning the RMSE. The variables with the lowest RMSE will be ranked higher.\n",
    "\n",
    "This RMSE will be estimated by a division in train and test (75%/25%)."
   ]
  },
  {
   "cell_type": "code",
   "execution_count": 8,
   "metadata": {},
   "outputs": [
    {
     "data": {
      "text/plain": [
       "13034.25"
      ]
     },
     "execution_count": 8,
     "metadata": {},
     "output_type": "execute_result"
    }
   ],
   "source": [
    "len(bike_rentals)*0.75"
   ]
  },
  {
   "cell_type": "code",
   "execution_count": 9,
   "metadata": {},
   "outputs": [],
   "source": [
    "from sklearn.metrics import mean_squared_error\n",
    "from sklearn.linear_model import LinearRegression\n",
    "import numpy as np\n",
    "\n",
    "target = ['cnt']\n",
    "rmse_dict = {}\n",
    "features = list(bike_rentals.columns)\n",
    "features.remove('cnt')\n",
    "\n",
    "for col in features:\n",
    "    columns = [col, 'cnt']\n",
    "     \n",
    "    temp_df = pd.DataFrame(bike_rentals, copy=True)\n",
    "    temp_df = temp_df[columns]\n",
    "    temp_df = pd.get_dummies(temp_df)\n",
    "    temp_train = temp_df[:13034]\n",
    "    temp_test = temp_df[13034:]\n",
    "    \n",
    "    feat = list(temp_df.columns)\n",
    "    feat.remove('cnt')\n",
    "    \n",
    "    lr = LinearRegression()\n",
    "    lr.fit(temp_train[feat], temp_train[target])\n",
    "    \n",
    "    predictions = lr.predict(temp_test[feat])\n",
    "    rmse = np.sqrt(mean_squared_error(predictions, temp_test[target]))\n",
    "    \n",
    "    rmse_dict[col] = rmse"
   ]
  },
  {
   "cell_type": "code",
   "execution_count": 10,
   "metadata": {},
   "outputs": [
    {
     "data": {
      "text/plain": [
       "{'season': 232.75121210352867,\n",
       " 'yr': 223.53608786986308,\n",
       " 'mnth': 234.51080687732065,\n",
       " 'holiday': 236.40297174459138,\n",
       " 'weekday': 236.44810265381275,\n",
       " 'workingday': 236.36761041207575,\n",
       " 'weathersit': 234.98056278722729,\n",
       " 'temp': 217.20263506435606,\n",
       " 'atemp': 217.73071011860446,\n",
       " 'hum': 225.46757823997743,\n",
       " 'windspeed': 236.24843203951102,\n",
       " 'time_label': 200.2709138567542}"
      ]
     },
     "execution_count": 10,
     "metadata": {},
     "output_type": "execute_result"
    }
   ],
   "source": [
    "rmse_dict"
   ]
  },
  {
   "cell_type": "code",
   "execution_count": 11,
   "metadata": {},
   "outputs": [
    {
     "data": {
      "text/plain": [
       "time_label    200.270914\n",
       "temp          217.202635\n",
       "atemp         217.730710\n",
       "yr            223.536088\n",
       "hum           225.467578\n",
       "season        232.751212\n",
       "mnth          234.510807\n",
       "weathersit    234.980563\n",
       "windspeed     236.248432\n",
       "workingday    236.367610\n",
       "holiday       236.402972\n",
       "weekday       236.448103\n",
       "Name: RMSE, dtype: float64"
      ]
     },
     "execution_count": 11,
     "metadata": {},
     "output_type": "execute_result"
    }
   ],
   "source": [
    "variables_df = pd.DataFrame.from_dict(rmse_dict, orient='index')\n",
    "variables_df['RMSE'] = variables_df[0]\n",
    "variables_df = variables_df.drop(0, axis=1)\n",
    "sorted_df = variables_df['RMSE'].sort_values()\n",
    "sorted_df"
   ]
  },
  {
   "cell_type": "code",
   "execution_count": 17,
   "metadata": {},
   "outputs": [
    {
     "data": {
      "text/plain": [
       "[200.2709138567542,\n",
       " 217.20263506435606,\n",
       " 217.73071011860446,\n",
       " 223.53608786986308,\n",
       " 225.46757823997743,\n",
       " 232.75121210352867,\n",
       " 234.51080687732065,\n",
       " 234.98056278722729,\n",
       " 236.24843203951102,\n",
       " 236.36761041207575,\n",
       " 236.40297174459138,\n",
       " 236.44810265381275]"
      ]
     },
     "execution_count": 17,
     "metadata": {},
     "output_type": "execute_result"
    }
   ],
   "source": [
    "features_error = list(sorted_df)\n",
    "features_error"
   ]
  },
  {
   "cell_type": "markdown",
   "metadata": {},
   "source": [
    "### Making predictions"
   ]
  },
  {
   "cell_type": "markdown",
   "metadata": {},
   "source": [
    "In this step, we will use three models (Linear Regression, Decision Trees and Random Forests) to predict the cnt variable. Each model will be applied using from 1 to 12 variables in the order of the features_list. \n",
    "\n",
    "We will split the data into a training/test set (75%/25%) and we will evaluate the error by the RMSE. We will evaluate both the error by predicting the train and test set, so we can estimate the tendency to overfit (by comparing both errors)."
   ]
  },
  {
   "cell_type": "markdown",
   "metadata": {},
   "source": [
    "### Linear Regression"
   ]
  },
  {
   "cell_type": "code",
   "execution_count": 76,
   "metadata": {},
   "outputs": [],
   "source": [
    "from sklearn.metrics import mean_squared_error\n",
    "\n",
    "train_rmse_list = []\n",
    "test_rmse_list = []\n",
    "features_list = list(sorted_df.index)\n",
    "\n",
    "for i in range(1, len(features_list)+1):\n",
    "    features = features_list[:i]\n",
    "    temp_df = pd.DataFrame(bike_rentals, copy=True)\n",
    "    feat = temp_df[features]\n",
    "    target = temp_df['cnt']\n",
    "    \n",
    "    feat = pd.get_dummies(feat)\n",
    "    train_feat = feat[:13034]\n",
    "    test_feat = feat[13034:]\n",
    "    \n",
    "    train_target = target[:13034]\n",
    "    test_target = target[13034:]\n",
    "\n",
    "    lr = LinearRegression()\n",
    "    lr.fit(train_feat, train_target)\n",
    "    \n",
    "    train_predictions = lr.predict(train_feat)\n",
    "    train_rmse =  np.sqrt(mean_squared_error(train_predictions, train_target))\n",
    "    train_rmse_list.append(train_rmse)\n",
    "    \n",
    "    test_predictions = lr.predict(test_feat)\n",
    "    test_rmse = np.sqrt(mean_squared_error(test_predictions, test_target))\n",
    "    test_rmse_list.append(test_rmse)"
   ]
  },
  {
   "cell_type": "code",
   "execution_count": 70,
   "metadata": {},
   "outputs": [
    {
     "data": {
      "text/plain": [
       "[200.27782024210734,\n",
       " 182.57494221982103,\n",
       " 181.78636612395863,\n",
       " 165.7203505899222,\n",
       " 163.41252331895242,\n",
       " 166.75816497801665,\n",
       " 166.87355325285554,\n",
       " 166.28250476458132,\n",
       " 166.13130870134881,\n",
       " 162.3794260737384,\n",
       " 162.929282757159,\n",
       " 163.35530585625713]"
      ]
     },
     "execution_count": 70,
     "metadata": {},
     "output_type": "execute_result"
    }
   ],
   "source": [
    "test_rmse_list"
   ]
  },
  {
   "cell_type": "code",
   "execution_count": 77,
   "metadata": {},
   "outputs": [
    {
     "data": {
      "text/plain": [
       "Text(0.5,0,'Variables')"
      ]
     },
     "execution_count": 77,
     "metadata": {},
     "output_type": "execute_result"
    },
    {
     "data": {
      "image/png": "[encoded data removed]",
      "text/plain": [
       "<Figure size 432x288 with 1 Axes>"
      ]
     },
     "metadata": {},
     "output_type": "display_data"
    }
   ],
   "source": [
    "x = np.arange(1,13)\n",
    "train = train_rmse_list\n",
    "test = test_rmse_list\n",
    "plt.plot(x, train, label='train')\n",
    "plt.plot(x, test, label='test')\n",
    "plt.ylim(0, 250)\n",
    "plt.legend()\n",
    "plt.ylabel('RMSE')\n",
    "plt.xlabel('Variables')"
   ]
  },
  {
   "cell_type": "markdown",
   "metadata": {},
   "source": [
    "Looking at this graph, we can see that the test RMSE decrease until 4 variables, thant it remains stable. Comparing this error with the train error, we can see there's a difference but this difference is not very large, which indicates the model is not overfitting.\n",
    "\n",
    "For the linear regression, we will consider the model with 4 variables (time_label, temp, atemp and yr) with an RMSE of 165.72."
   ]
  },
  {
   "cell_type": "markdown",
   "metadata": {},
   "source": [
    "### Decision Trees"
   ]
  },
  {
   "cell_type": "code",
   "execution_count": 85,
   "metadata": {},
   "outputs": [],
   "source": [
    "from sklearn.metrics import mean_squared_error\n",
    "from sklearn.tree import DecisionTreeRegressor\n",
    "\n",
    "train_rmse_list = []\n",
    "test_rmse_list = []\n",
    "features_list = list(sorted_df.index)\n",
    "\n",
    "for i in range(1, len(features_list)+1):\n",
    "    features = features_list[:i]\n",
    "    temp_df = pd.DataFrame(bike_rentals, copy=True)\n",
    "    feat = temp_df[features]\n",
    "    target = temp_df['cnt']\n",
    "    \n",
    "    feat = pd.get_dummies(feat)\n",
    "    train_feat = feat[:13034]\n",
    "    test_feat = feat[13034:]\n",
    "    \n",
    "    train_target = target[:13034]\n",
    "    test_target = target[13034:]\n",
    "\n",
    "    dt = DecisionTreeRegressor()\n",
    "    dt.fit(train_feat, train_target)\n",
    "    \n",
    "    train_predictions = dt.predict(train_feat)\n",
    "    train_rmse =  np.sqrt(mean_squared_error(train_predictions, train_target))\n",
    "    train_rmse_list.append(train_rmse)\n",
    "    \n",
    "    test_predictions = dt.predict(test_feat)\n",
    "    test_rmse = np.sqrt(mean_squared_error(test_predictions, test_target))\n",
    "    test_rmse_list.append(test_rmse)"
   ]
  },
  {
   "cell_type": "code",
   "execution_count": 80,
   "metadata": {},
   "outputs": [
    {
     "data": {
      "text/plain": [
       "<matplotlib.legend.Legend at 0x12c10b0>"
      ]
     },
     "execution_count": 80,
     "metadata": {},
     "output_type": "execute_result"
    },
    {
     "data": {
      "image/png": "[encoded data removed]",
      "text/plain": [
       "<Figure size 432x288 with 1 Axes>"
      ]
     },
     "metadata": {},
     "output_type": "display_data"
    }
   ],
   "source": [
    "x = np.arange(1,13)\n",
    "train = train_rmse_list\n",
    "test = test_rmse_list\n",
    "plt.plot(x, train, label='train')\n",
    "plt.plot(x, test, label='test')\n",
    "plt.ylim(0, 250)\n",
    "plt.ylabel('RMSE')\n",
    "plt.xlabel('Variables')\n",
    "plt.legend()"
   ]
  },
  {
   "cell_type": "markdown",
   "metadata": {},
   "source": [
    "Looking at the results, we can see that the test RMSE decreases until 4 variables thant it increases significantly. Meanwhile, the train RMSE continues to decrease (reaching almost zero for more than 9 variables). \n",
    "\n",
    "This behavior indicates that with more variables the model is overfitting because the trees built are much complex; we will correct it by running the models again with a parameter of max_depth of the trees"
   ]
  },
  {
   "cell_type": "code",
   "execution_count": 86,
   "metadata": {},
   "outputs": [],
   "source": [
    "from sklearn.tree import DecisionTreeRegressor\n",
    "\n",
    "train_rmse_list = []\n",
    "test_rmse_list = []\n",
    "features_list = list(sorted_df.index)\n",
    "\n",
    "for i in range(1, len(features_list)+1):\n",
    "    features = features_list[:i]\n",
    "    temp_df = pd.DataFrame(bike_rentals, copy=True)\n",
    "    feat = temp_df[features]\n",
    "    target = temp_df['cnt']\n",
    "    \n",
    "    feat = pd.get_dummies(feat)\n",
    "    train_feat = feat[:13034]\n",
    "    test_feat = feat[13034:]\n",
    "    \n",
    "    train_target = target[:13034]\n",
    "    test_target = target[13034:]\n",
    "\n",
    "    dt = DecisionTreeRegressor(max_depth = 7)\n",
    "    dt.fit(train_feat, train_target)\n",
    "    \n",
    "    train_predictions = dt.predict(train_feat)\n",
    "    train_rmse =  np.sqrt(mean_squared_error(train_predictions, train_target))\n",
    "    train_rmse_list.append(train_rmse)\n",
    "    \n",
    "    test_predictions = dt.predict(test_feat)\n",
    "    test_rmse = np.sqrt(mean_squared_error(test_predictions, test_target))\n",
    "    test_rmse_list.append(test_rmse)"
   ]
  },
  {
   "cell_type": "code",
   "execution_count": 83,
   "metadata": {},
   "outputs": [
    {
     "data": {
      "text/plain": [
       "[200.27782024210734,\n",
       " 182.57494221982103,\n",
       " 182.17780821780914,\n",
       " 165.7203505899222,\n",
       " 163.70177638891772,\n",
       " 167.2484521961987,\n",
       " 166.87212753235895,\n",
       " 166.0066998252279,\n",
       " 166.171186125199,\n",
       " 162.37729163514203,\n",
       " 163.8652028026497,\n",
       " 163.35530585625713]"
      ]
     },
     "execution_count": 83,
     "metadata": {},
     "output_type": "execute_result"
    }
   ],
   "source": [
    "test_rmse_list"
   ]
  },
  {
   "cell_type": "code",
   "execution_count": 84,
   "metadata": {},
   "outputs": [
    {
     "data": {
      "text/plain": [
       "<matplotlib.legend.Legend at 0xea28410>"
      ]
     },
     "execution_count": 84,
     "metadata": {},
     "output_type": "execute_result"
    },
    {
     "data": {
      "image/png": "[encoded data removed]",
      "text/plain": [
       "<Figure size 432x288 with 1 Axes>"
      ]
     },
     "metadata": {},
     "output_type": "display_data"
    }
   ],
   "source": [
    "x = np.arange(1,13)\n",
    "train = train_rmse_list\n",
    "test = test_rmse_list\n",
    "plt.plot(x, train, label='train')\n",
    "plt.plot(x, test, label='test')\n",
    "plt.ylim(0, 250)\n",
    "plt.ylabel('RMSE')\n",
    "plt.xlabel('Variables')\n",
    "plt.legend()"
   ]
  },
  {
   "cell_type": "markdown",
   "metadata": {},
   "source": [
    "Looking at the new results, now the behavior is similar to the Linear Regression: the test RMSE reduces until 4 variables then it remains stable and the train RMSE followes the same behavior (and the difference between both aren't large).\n",
    "\n",
    "We will consider the best decision tree model with 4 variables with and RMSE of 165.72."
   ]
  },
  {
   "cell_type": "markdown",
   "metadata": {},
   "source": [
    "### Random Forest"
   ]
  },
  {
   "cell_type": "code",
   "execution_count": 111,
   "metadata": {},
   "outputs": [],
   "source": [
    "from sklearn.ensemble import RandomForestClassifier\n",
    "\n",
    "train_rmse_list = []\n",
    "test_rmse_list = []\n",
    "features_list = list(sorted_df.index)\n",
    "\n",
    "for i in range(1, len(features_list)+1):\n",
    "    features = features_list[:i]\n",
    "    temp_df = pd.DataFrame(bike_rentals, copy=True)\n",
    "    feat = temp_df[features]\n",
    "    target = temp_df['cnt']\n",
    "    \n",
    "    feat = pd.get_dummies(feat)\n",
    "    train_feat = feat[:13034]\n",
    "    test_feat = feat[13034:]\n",
    "    \n",
    "    train_target = target[:13034]\n",
    "    test_target = target[13034:]\n",
    "\n",
    "    rf = RandomForestClassifier(n_estimators=50, n_jobs=4, max_depth=7)\n",
    "    rf.fit(train_feat, train_target)\n",
    "    \n",
    "    train_predictions = rf.predict(train_feat)\n",
    "    train_rmse =  np.sqrt(mean_squared_error(train_predictions, train_target))\n",
    "    train_rmse_list.append(train_rmse)\n",
    "    \n",
    "    test_predictions = rf.predict(test_feat)\n",
    "    test_rmse = np.sqrt(mean_squared_error(test_predictions, test_target))\n",
    "    test_rmse_list.append(test_rmse)"
   ]
  },
  {
   "cell_type": "code",
   "execution_count": 112,
   "metadata": {},
   "outputs": [
    {
     "data": {
      "text/plain": [
       "<matplotlib.legend.Legend at 0xe7b4970>"
      ]
     },
     "execution_count": 112,
     "metadata": {},
     "output_type": "execute_result"
    },
    {
     "data": {
      "image/png": "[encoded data removed]",
      "text/plain": [
       "<Figure size 432x288 with 1 Axes>"
      ]
     },
     "metadata": {},
     "output_type": "display_data"
    }
   ],
   "source": [
    "x = np.arange(1,13)\n",
    "train = train_rmse_list\n",
    "test = test_rmse_list\n",
    "plt.plot(x, train, label='train')\n",
    "plt.plot(x, test, label='test')\n",
    "plt.ylim(0, 250)\n",
    "plt.ylabel('RMSE')\n",
    "plt.xlabel('Variables')\n",
    "plt.legend()"
   ]
  },
  {
   "cell_type": "code",
   "execution_count": 113,
   "metadata": {},
   "outputs": [
    {
     "data": {
      "text/plain": [
       "[250.38940857462828,\n",
       " 219.9704065251402,\n",
       " 224.87058239404516,\n",
       " 203.6626788746484,\n",
       " 210.40386448690566,\n",
       " 209.81451285450404,\n",
       " 228.31658869218597,\n",
       " 229.82313357726355,\n",
       " 215.39814875159826,\n",
       " 218.71061953598317,\n",
       " 205.39525677941023,\n",
       " 216.07406190968317]"
      ]
     },
     "execution_count": 113,
     "metadata": {},
     "output_type": "execute_result"
    }
   ],
   "source": [
    "test_rmse_list"
   ]
  },
  {
   "cell_type": "markdown",
   "metadata": {},
   "source": [
    "The Random Forest model had a similar behavior than the other 2 models, with the lowest RMSE with 4 variables. The error for those 4 variables was the biggest from the three models: 203.66."
   ]
  },
  {
   "cell_type": "markdown",
   "metadata": {},
   "source": [
    "### Conclusion"
   ]
  },
  {
   "cell_type": "markdown",
   "metadata": {},
   "source": [
    "Comparing the three models, the random forest presented the highest RMSE: 203.66 with 4 variables. The Linear Regression and the Decision Trees had the same RMSE: 165.72 with 4 variables."
   ]
  },
  {
   "cell_type": "code",
   "execution_count": null,
   "metadata": {},
   "outputs": [],
   "source": []
  }
 ],
 "metadata": {
  "kernelspec": {
   "display_name": "Python 3",
   "language": "python",
   "name": "python3"
  },
  "language_info": {
   "codemirror_mode": {
    "name": "ipython",
    "version": 3
   },
   "file_extension": ".py",
   "mimetype": "text/x-python",
   "name": "python",
   "nbconvert_exporter": "python",
   "pygments_lexer": "ipython3",
   "version": "3.6.5"
  }
 },
 "nbformat": 4,
 "nbformat_minor": 2
}
