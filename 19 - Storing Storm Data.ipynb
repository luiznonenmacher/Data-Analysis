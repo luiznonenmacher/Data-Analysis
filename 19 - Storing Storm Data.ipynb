{
 "cells": [
  {
   "cell_type": "markdown",
   "metadata": {},
   "source": [
    "# Storing Storm Data"
   ]
  },
  {
   "cell_type": "markdown",
   "metadata": {},
   "source": [
    "### Introduction"
   ]
  },
  {
   "cell_type": "markdown",
   "metadata": {},
   "source": [
    "In this project, I will the storm_data from [here](https://dq-content.s3.amazonaws.com/251/storm_data.csv), a csv that simulates hurricane data. The csv contains the following fields:\n",
    "\n",
    "- fid - ID for the row\n",
    "- year - Recorded year\n",
    "- month - Recorded month\n",
    "- day - Recorded date\n",
    "- ad_time - Recorded time in UTC\n",
    "- btid - Hurricane ID\n",
    "- name - Name of the hurricane\n",
    "- lat - Latitude of the recorded location\n",
    "- long - Longitude of the recorded location\n",
    "- wind_kts - Wind speed in knots per second\n",
    "- pressure - Atmospheric pressure of the hurricane\n",
    "- cat - Hurricane category\n",
    "- basin - The basin the hurricane is located\n",
    "- shape_leng - Hurricane shape length\n",
    "\n",
    "The objective of the project is to take this data and add into a database. To create the database, we will use a local version of PostgreSQL."
   ]
  },
  {
   "cell_type": "markdown",
   "metadata": {},
   "source": [
    "### Importing the data"
   ]
  },
  {
   "cell_type": "code",
   "execution_count": 5,
   "metadata": {},
   "outputs": [
    {
     "name": "stdout",
     "output_type": "stream",
     "text": [
      "['ï»¿FID', 'YEAR', 'MONTH', 'DAY', 'AD_TIME', 'BTID', 'NAME', 'LAT', 'LONG', 'WIND_KTS', 'PRESSURE', 'CAT', 'BASIN', 'Shape_Leng']\n",
      "['2001', '1957', '8', '8', '1800Z', '63', 'NOTNAMED', '22.5', '-140', '50', '0', 'TS', 'Eastern Pacific', '1.140175']\n",
      "['2002', '1961', '10', '3', '1200Z', '116', 'PAULINE', '22.1', '-140.2', '45', '0', 'TS', 'Eastern Pacific', '1.16619']\n",
      "['2003', '1962', '8', '29', '0600Z', '124', 'C', '18', '-140', '45', '0', 'TS', 'Eastern Pacific', '2.10238']\n",
      "['2004', '1967', '7', '14', '0600Z', '168', 'DENISE', '16.6', '-139.5', '45', '0', 'TS', 'Eastern Pacific', '2.12132']\n"
     ]
    }
   ],
   "source": [
    "import io\n",
    "from urllib import request\n",
    "import csv\n",
    "\n",
    "response = request.urlopen('https://dq-content.s3.amazonaws.com/251/storm_data.csv')\n",
    "reader = csv.reader(io.TextIOWrapper(response))\n",
    "\n",
    "line_number = 0\n",
    "for line in reader:\n",
    "    if line_number < 5:\n",
    "        print(line)\n",
    "        line_number +=1\n",
    "    else:\n",
    "        break"
   ]
  },
  {
   "cell_type": "markdown",
   "metadata": {},
   "source": [
    "### Creating the table"
   ]
  },
  {
   "cell_type": "code",
   "execution_count": 31,
   "metadata": {},
   "outputs": [],
   "source": [
    "conn = psycopg2.connect(dbname=\"postgres\", user=\"postgres\", password=\"upsdflintmobile\")\n",
    "cur = conn.cursor()\n",
    "\n",
    "query1 = \"DROP TABLE IF EXISTS storm\"\n",
    "query2 =\"\"\"CREATE TABLE storm(\n",
    "id INTEGER PRIMARY KEY,\n",
    "date TIMESTAMPTZ,\n",
    "btid INTEGER,\n",
    "name VARCHAR(15),\n",
    "latitude DECIMAL(4,1),\n",
    "longitude DECIMAL(4,1),\n",
    "wind_kts INTEGER,\n",
    "pressure INTEGER,\n",
    "cat VARCHAR(3),\n",
    "basin VARCHAR(16),\n",
    "shape_leng DECIMAL(8,6)\n",
    ");\n",
    "\"\"\"\n",
    "\n",
    "cur.execute(query1)\n",
    "cur.execute(query2)\n",
    "conn.commit()\n",
    "conn.close()"
   ]
  }
 ],
 "metadata": {
  "kernelspec": {
   "display_name": "Python 3",
   "language": "python",
   "name": "python3"
  },
  "language_info": {
   "codemirror_mode": {
    "name": "ipython",
    "version": 3
   },
   "file_extension": ".py",
   "mimetype": "text/x-python",
   "name": "python",
   "nbconvert_exporter": "python",
   "pygments_lexer": "ipython3",
   "version": "3.6.8"
  }
 },
 "nbformat": 4,
 "nbformat_minor": 2
}
