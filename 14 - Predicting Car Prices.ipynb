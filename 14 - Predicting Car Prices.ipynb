{
 "cells": [
  {
   "cell_type": "markdown",
   "metadata": {
    "collapsed": true
   },
   "source": [
    "### Predicting Car Prices"
   ]
  },
  {
   "cell_type": "markdown",
   "metadata": {},
   "source": [
    "In this project, we will apply k-NN to predict car prices. We will use a dataset that contains car features and it's market price.\n",
    "\n",
    "The dataset can be downloaded directly from [here](https://archive.ics.uci.edu/ml/machine-learning-databases/autos/imports-85.data). More information about the dataset is found [here](https://archive.ics.uci.edu/ml/datasets/automobile).\n",
    "\n",
    "We evaluated the error using RMSE with a training set of 75% of the data. The best model used three features (horsepower, width and city-mpg) and resulted in a RMSE of 1997.5.\n"
   ]
  },
  {
   "cell_type": "markdown",
   "metadata": {},
   "source": [
    "### Reading the data"
   ]
  },
  {
   "cell_type": "code",
   "execution_count": 342,
   "metadata": {
    "collapsed": false
   },
   "outputs": [],
   "source": [
    "import pandas as pd\n",
    "\n",
    "columns = ['symboling', 'normalized_losses', 'make:', 'fuel-type', 'aspirations',\n",
    "               'num_of_doors', 'body_style', 'drive_wheels', 'engine_location',\n",
    "               'wheel_base', 'length', 'width', 'height', 'curb_weight', 'engine_type',\n",
    "               'num_of_cylinders', 'engine-size', 'fuel-system', 'bore', 'stroke',\n",
    "               'compression-ratio', 'horsepower', 'peak-rpm', 'city-mpg', 'highway-mpg',\n",
    "               'price']\n",
    "\n",
    "cars = pd.read_csv('imports-85.data', names = columns)"
   ]
  },
  {
   "cell_type": "code",
   "execution_count": 343,
   "metadata": {
    "collapsed": false
   },
   "outputs": [
    {
     "name": "stdout",
     "output_type": "stream",
     "text": [
      "<class 'pandas.core.frame.DataFrame'>\n",
      "RangeIndex: 205 entries, 0 to 204\n",
      "Data columns (total 26 columns):\n",
      "symboling            205 non-null int64\n",
      "normalized_losses    205 non-null object\n",
      "make:                205 non-null object\n",
      "fuel-type            205 non-null object\n",
      "aspirations          205 non-null object\n",
      "num_of_doors         205 non-null object\n",
      "body_style           205 non-null object\n",
      "drive_wheels         205 non-null object\n",
      "engine_location      205 non-null object\n",
      "wheel_base           205 non-null float64\n",
      "length               205 non-null float64\n",
      "width                205 non-null float64\n",
      "height               205 non-null float64\n",
      "curb_weight          205 non-null int64\n",
      "engine_type          205 non-null object\n",
      "num_of_cylinders     205 non-null object\n",
      "engine-size          205 non-null int64\n",
      "fuel-system          205 non-null object\n",
      "bore                 205 non-null object\n",
      "stroke               205 non-null object\n",
      "compression-ratio    205 non-null float64\n",
      "horsepower           205 non-null object\n",
      "peak-rpm             205 non-null object\n",
      "city-mpg             205 non-null int64\n",
      "highway-mpg          205 non-null int64\n",
      "price                205 non-null object\n",
      "dtypes: float64(5), int64(5), object(16)\n",
      "memory usage: 41.7+ KB\n"
     ]
    }
   ],
   "source": [
    "cars.info()"
   ]
  },
  {
   "cell_type": "markdown",
   "metadata": {},
   "source": [
    "The columns that are numeric and can be used as features are: symboling, wheel_base, length, width, height, curb_weight, engine-size, compression-ration, city-mpg and highway-mpg. \n",
    "\n",
    "The target column we would like to predict is the price."
   ]
  },
  {
   "cell_type": "code",
   "execution_count": 344,
   "metadata": {
    "collapsed": false
   },
   "outputs": [
    {
     "data": {
      "text/html": [
       "<div>\n",
       "<style scoped>\n",
       "    .dataframe tbody tr th:only-of-type {\n",
       "        vertical-align: middle;\n",
       "    }\n",
       "\n",
       "    .dataframe tbody tr th {\n",
       "        vertical-align: top;\n",
       "    }\n",
       "\n",
       "    .dataframe thead th {\n",
       "        text-align: right;\n",
       "    }\n",
       "</style>\n",
       "<table border=\"1\" class=\"dataframe\">\n",
       "  <thead>\n",
       "    <tr style=\"text-align: right;\">\n",
       "      <th></th>\n",
       "      <th>symboling</th>\n",
       "      <th>normalized_losses</th>\n",
       "      <th>make:</th>\n",
       "      <th>fuel-type</th>\n",
       "      <th>aspirations</th>\n",
       "      <th>num_of_doors</th>\n",
       "      <th>body_style</th>\n",
       "      <th>drive_wheels</th>\n",
       "      <th>engine_location</th>\n",
       "      <th>wheel_base</th>\n",
       "      <th>...</th>\n",
       "      <th>engine-size</th>\n",
       "      <th>fuel-system</th>\n",
       "      <th>bore</th>\n",
       "      <th>stroke</th>\n",
       "      <th>compression-ratio</th>\n",
       "      <th>horsepower</th>\n",
       "      <th>peak-rpm</th>\n",
       "      <th>city-mpg</th>\n",
       "      <th>highway-mpg</th>\n",
       "      <th>price</th>\n",
       "    </tr>\n",
       "  </thead>\n",
       "  <tbody>\n",
       "    <tr>\n",
       "      <th>0</th>\n",
       "      <td>3</td>\n",
       "      <td>?</td>\n",
       "      <td>alfa-romero</td>\n",
       "      <td>gas</td>\n",
       "      <td>std</td>\n",
       "      <td>two</td>\n",
       "      <td>convertible</td>\n",
       "      <td>rwd</td>\n",
       "      <td>front</td>\n",
       "      <td>88.6</td>\n",
       "      <td>...</td>\n",
       "      <td>130</td>\n",
       "      <td>mpfi</td>\n",
       "      <td>3.47</td>\n",
       "      <td>2.68</td>\n",
       "      <td>9.0</td>\n",
       "      <td>111</td>\n",
       "      <td>5000</td>\n",
       "      <td>21</td>\n",
       "      <td>27</td>\n",
       "      <td>13495</td>\n",
       "    </tr>\n",
       "    <tr>\n",
       "      <th>1</th>\n",
       "      <td>3</td>\n",
       "      <td>?</td>\n",
       "      <td>alfa-romero</td>\n",
       "      <td>gas</td>\n",
       "      <td>std</td>\n",
       "      <td>two</td>\n",
       "      <td>convertible</td>\n",
       "      <td>rwd</td>\n",
       "      <td>front</td>\n",
       "      <td>88.6</td>\n",
       "      <td>...</td>\n",
       "      <td>130</td>\n",
       "      <td>mpfi</td>\n",
       "      <td>3.47</td>\n",
       "      <td>2.68</td>\n",
       "      <td>9.0</td>\n",
       "      <td>111</td>\n",
       "      <td>5000</td>\n",
       "      <td>21</td>\n",
       "      <td>27</td>\n",
       "      <td>16500</td>\n",
       "    </tr>\n",
       "    <tr>\n",
       "      <th>2</th>\n",
       "      <td>1</td>\n",
       "      <td>?</td>\n",
       "      <td>alfa-romero</td>\n",
       "      <td>gas</td>\n",
       "      <td>std</td>\n",
       "      <td>two</td>\n",
       "      <td>hatchback</td>\n",
       "      <td>rwd</td>\n",
       "      <td>front</td>\n",
       "      <td>94.5</td>\n",
       "      <td>...</td>\n",
       "      <td>152</td>\n",
       "      <td>mpfi</td>\n",
       "      <td>2.68</td>\n",
       "      <td>3.47</td>\n",
       "      <td>9.0</td>\n",
       "      <td>154</td>\n",
       "      <td>5000</td>\n",
       "      <td>19</td>\n",
       "      <td>26</td>\n",
       "      <td>16500</td>\n",
       "    </tr>\n",
       "    <tr>\n",
       "      <th>3</th>\n",
       "      <td>2</td>\n",
       "      <td>164</td>\n",
       "      <td>audi</td>\n",
       "      <td>gas</td>\n",
       "      <td>std</td>\n",
       "      <td>four</td>\n",
       "      <td>sedan</td>\n",
       "      <td>fwd</td>\n",
       "      <td>front</td>\n",
       "      <td>99.8</td>\n",
       "      <td>...</td>\n",
       "      <td>109</td>\n",
       "      <td>mpfi</td>\n",
       "      <td>3.19</td>\n",
       "      <td>3.40</td>\n",
       "      <td>10.0</td>\n",
       "      <td>102</td>\n",
       "      <td>5500</td>\n",
       "      <td>24</td>\n",
       "      <td>30</td>\n",
       "      <td>13950</td>\n",
       "    </tr>\n",
       "    <tr>\n",
       "      <th>4</th>\n",
       "      <td>2</td>\n",
       "      <td>164</td>\n",
       "      <td>audi</td>\n",
       "      <td>gas</td>\n",
       "      <td>std</td>\n",
       "      <td>four</td>\n",
       "      <td>sedan</td>\n",
       "      <td>4wd</td>\n",
       "      <td>front</td>\n",
       "      <td>99.4</td>\n",
       "      <td>...</td>\n",
       "      <td>136</td>\n",
       "      <td>mpfi</td>\n",
       "      <td>3.19</td>\n",
       "      <td>3.40</td>\n",
       "      <td>8.0</td>\n",
       "      <td>115</td>\n",
       "      <td>5500</td>\n",
       "      <td>18</td>\n",
       "      <td>22</td>\n",
       "      <td>17450</td>\n",
       "    </tr>\n",
       "  </tbody>\n",
       "</table>\n",
       "<p>5 rows × 26 columns</p>\n",
       "</div>"
      ],
      "text/plain": [
       "   symboling normalized_losses        make: fuel-type aspirations  \\\n",
       "0          3                 ?  alfa-romero       gas         std   \n",
       "1          3                 ?  alfa-romero       gas         std   \n",
       "2          1                 ?  alfa-romero       gas         std   \n",
       "3          2               164         audi       gas         std   \n",
       "4          2               164         audi       gas         std   \n",
       "\n",
       "  num_of_doors   body_style drive_wheels engine_location  wheel_base  ...    \\\n",
       "0          two  convertible          rwd           front        88.6  ...     \n",
       "1          two  convertible          rwd           front        88.6  ...     \n",
       "2          two    hatchback          rwd           front        94.5  ...     \n",
       "3         four        sedan          fwd           front        99.8  ...     \n",
       "4         four        sedan          4wd           front        99.4  ...     \n",
       "\n",
       "   engine-size  fuel-system  bore  stroke compression-ratio horsepower  \\\n",
       "0          130         mpfi  3.47    2.68               9.0        111   \n",
       "1          130         mpfi  3.47    2.68               9.0        111   \n",
       "2          152         mpfi  2.68    3.47               9.0        154   \n",
       "3          109         mpfi  3.19    3.40              10.0        102   \n",
       "4          136         mpfi  3.19    3.40               8.0        115   \n",
       "\n",
       "   peak-rpm city-mpg highway-mpg  price  \n",
       "0      5000       21          27  13495  \n",
       "1      5000       21          27  16500  \n",
       "2      5000       19          26  16500  \n",
       "3      5500       24          30  13950  \n",
       "4      5500       18          22  17450  \n",
       "\n",
       "[5 rows x 26 columns]"
      ]
     },
     "execution_count": 344,
     "metadata": {},
     "output_type": "execute_result"
    }
   ],
   "source": [
    "cars.head()"
   ]
  },
  {
   "cell_type": "markdown",
   "metadata": {
    "collapsed": true
   },
   "source": [
    "### Processing the data"
   ]
  },
  {
   "cell_type": "markdown",
   "metadata": {},
   "source": [
    "In the next steps, we will process the data so it is suited to the predictive modeling.\n",
    "\n",
    "In the first step of the analysis we will utilize only columns with numerical types. So we will isolate this data as numeric cars. \n",
    "\n",
    "The first next is to process the missing values in the columns, and transform every column into a numeric type."
   ]
  },
  {
   "cell_type": "code",
   "execution_count": 345,
   "metadata": {
    "collapsed": false
   },
   "outputs": [
    {
     "name": "stdout",
     "output_type": "stream",
     "text": [
      "<class 'pandas.core.frame.DataFrame'>\n",
      "RangeIndex: 205 entries, 0 to 204\n",
      "Data columns (total 14 columns):\n",
      "normalized_losses    205 non-null object\n",
      "wheel_base           205 non-null float64\n",
      "length               205 non-null float64\n",
      "width                205 non-null float64\n",
      "height               205 non-null float64\n",
      "curb_weight          205 non-null int64\n",
      "bore                 205 non-null object\n",
      "stroke               205 non-null object\n",
      "compression-ratio    205 non-null float64\n",
      "horsepower           205 non-null object\n",
      "peak-rpm             205 non-null object\n",
      "city-mpg             205 non-null int64\n",
      "highway-mpg          205 non-null int64\n",
      "price                205 non-null object\n",
      "dtypes: float64(5), int64(3), object(6)\n",
      "memory usage: 22.5+ KB\n"
     ]
    }
   ],
   "source": [
    "import numpy as np\n",
    "\n",
    "numeric_columns = [ 'normalized_losses', 'wheel_base', 'length', 'width', \n",
    "                   'height','curb_weight', 'bore', 'stroke', 'compression-ratio', \n",
    "                   'horsepower','peak-rpm', 'city-mpg', 'highway-mpg', 'price']\n",
    "numeric_cars = cars[numeric_columns]\n",
    "numeric_cars.info()\n"
   ]
  },
  {
   "cell_type": "markdown",
   "metadata": {},
   "source": [
    "The normalized_losses, bore, stroke, horsepower, peak-rpm and price have the type object instead of float or int, which indicates a string in some columns. We will look this rows in detail so we can convert all columns to a numeric type."
   ]
  },
  {
   "cell_type": "code",
   "execution_count": 346,
   "metadata": {
    "collapsed": false,
    "scrolled": true
   },
   "outputs": [
    {
     "data": {
      "text/html": [
       "<div>\n",
       "<style scoped>\n",
       "    .dataframe tbody tr th:only-of-type {\n",
       "        vertical-align: middle;\n",
       "    }\n",
       "\n",
       "    .dataframe tbody tr th {\n",
       "        vertical-align: top;\n",
       "    }\n",
       "\n",
       "    .dataframe thead th {\n",
       "        text-align: right;\n",
       "    }\n",
       "</style>\n",
       "<table border=\"1\" class=\"dataframe\">\n",
       "  <thead>\n",
       "    <tr style=\"text-align: right;\">\n",
       "      <th></th>\n",
       "      <th>normalized_losses</th>\n",
       "      <th>bore</th>\n",
       "      <th>stroke</th>\n",
       "      <th>horsepower</th>\n",
       "      <th>peak-rpm</th>\n",
       "      <th>price</th>\n",
       "    </tr>\n",
       "  </thead>\n",
       "  <tbody>\n",
       "    <tr>\n",
       "      <th>0</th>\n",
       "      <td>?</td>\n",
       "      <td>3.47</td>\n",
       "      <td>2.68</td>\n",
       "      <td>111</td>\n",
       "      <td>5000</td>\n",
       "      <td>13495</td>\n",
       "    </tr>\n",
       "    <tr>\n",
       "      <th>1</th>\n",
       "      <td>?</td>\n",
       "      <td>3.47</td>\n",
       "      <td>2.68</td>\n",
       "      <td>111</td>\n",
       "      <td>5000</td>\n",
       "      <td>16500</td>\n",
       "    </tr>\n",
       "    <tr>\n",
       "      <th>2</th>\n",
       "      <td>?</td>\n",
       "      <td>2.68</td>\n",
       "      <td>3.47</td>\n",
       "      <td>154</td>\n",
       "      <td>5000</td>\n",
       "      <td>16500</td>\n",
       "    </tr>\n",
       "    <tr>\n",
       "      <th>3</th>\n",
       "      <td>164</td>\n",
       "      <td>3.19</td>\n",
       "      <td>3.40</td>\n",
       "      <td>102</td>\n",
       "      <td>5500</td>\n",
       "      <td>13950</td>\n",
       "    </tr>\n",
       "    <tr>\n",
       "      <th>4</th>\n",
       "      <td>164</td>\n",
       "      <td>3.19</td>\n",
       "      <td>3.40</td>\n",
       "      <td>115</td>\n",
       "      <td>5500</td>\n",
       "      <td>17450</td>\n",
       "    </tr>\n",
       "    <tr>\n",
       "      <th>5</th>\n",
       "      <td>?</td>\n",
       "      <td>3.19</td>\n",
       "      <td>3.40</td>\n",
       "      <td>110</td>\n",
       "      <td>5500</td>\n",
       "      <td>15250</td>\n",
       "    </tr>\n",
       "    <tr>\n",
       "      <th>6</th>\n",
       "      <td>158</td>\n",
       "      <td>3.19</td>\n",
       "      <td>3.40</td>\n",
       "      <td>110</td>\n",
       "      <td>5500</td>\n",
       "      <td>17710</td>\n",
       "    </tr>\n",
       "    <tr>\n",
       "      <th>7</th>\n",
       "      <td>?</td>\n",
       "      <td>3.19</td>\n",
       "      <td>3.40</td>\n",
       "      <td>110</td>\n",
       "      <td>5500</td>\n",
       "      <td>18920</td>\n",
       "    </tr>\n",
       "    <tr>\n",
       "      <th>8</th>\n",
       "      <td>158</td>\n",
       "      <td>3.13</td>\n",
       "      <td>3.40</td>\n",
       "      <td>140</td>\n",
       "      <td>5500</td>\n",
       "      <td>23875</td>\n",
       "    </tr>\n",
       "    <tr>\n",
       "      <th>9</th>\n",
       "      <td>?</td>\n",
       "      <td>3.13</td>\n",
       "      <td>3.40</td>\n",
       "      <td>160</td>\n",
       "      <td>5500</td>\n",
       "      <td>?</td>\n",
       "    </tr>\n",
       "  </tbody>\n",
       "</table>\n",
       "</div>"
      ],
      "text/plain": [
       "  normalized_losses  bore stroke horsepower peak-rpm  price\n",
       "0                 ?  3.47   2.68        111     5000  13495\n",
       "1                 ?  3.47   2.68        111     5000  16500\n",
       "2                 ?  2.68   3.47        154     5000  16500\n",
       "3               164  3.19   3.40        102     5500  13950\n",
       "4               164  3.19   3.40        115     5500  17450\n",
       "5                 ?  3.19   3.40        110     5500  15250\n",
       "6               158  3.19   3.40        110     5500  17710\n",
       "7                 ?  3.19   3.40        110     5500  18920\n",
       "8               158  3.13   3.40        140     5500  23875\n",
       "9                 ?  3.13   3.40        160     5500      ?"
      ]
     },
     "execution_count": 346,
     "metadata": {},
     "output_type": "execute_result"
    }
   ],
   "source": [
    "object_columns = ['normalized_losses', 'bore', 'stroke', 'horsepower', 'peak-rpm', 'price']\n",
    "numeric_cars[object_columns].head(10)"
   ]
  },
  {
   "cell_type": "markdown",
   "metadata": {},
   "source": [
    "It appears that the columns with missing values have a string \"?\" on it's rows. We will substitute those values for null and convert the column into float type."
   ]
  },
  {
   "cell_type": "code",
   "execution_count": 347,
   "metadata": {
    "collapsed": false
   },
   "outputs": [
    {
     "name": "stdout",
     "output_type": "stream",
     "text": [
      "<class 'pandas.core.frame.DataFrame'>\n",
      "RangeIndex: 205 entries, 0 to 204\n",
      "Data columns (total 14 columns):\n",
      "normalized_losses    164 non-null float64\n",
      "wheel_base           205 non-null float64\n",
      "length               205 non-null float64\n",
      "width                205 non-null float64\n",
      "height               205 non-null float64\n",
      "curb_weight          205 non-null int64\n",
      "bore                 201 non-null float64\n",
      "stroke               201 non-null float64\n",
      "compression-ratio    205 non-null float64\n",
      "horsepower           203 non-null float64\n",
      "peak-rpm             203 non-null float64\n",
      "city-mpg             205 non-null int64\n",
      "highway-mpg          205 non-null int64\n",
      "price                201 non-null float64\n",
      "dtypes: float64(11), int64(3)\n",
      "memory usage: 22.5 KB\n"
     ]
    }
   ],
   "source": [
    "import numpy as np\n",
    "\n",
    "numeric_cars = numeric_cars.replace('?', np.nan)\n",
    "numeric_cars[object_columns] = numeric_cars[object_columns].astype('float')\n",
    "numeric_cars.info()"
   ]
  },
  {
   "cell_type": "code",
   "execution_count": 348,
   "metadata": {
    "collapsed": false
   },
   "outputs": [
    {
     "data": {
      "text/plain": [
       "normalized_losses    41\n",
       "wheel_base            0\n",
       "length                0\n",
       "width                 0\n",
       "height                0\n",
       "curb_weight           0\n",
       "bore                  4\n",
       "stroke                4\n",
       "compression-ratio     0\n",
       "horsepower            2\n",
       "peak-rpm              2\n",
       "city-mpg              0\n",
       "highway-mpg           0\n",
       "price                 4\n",
       "dtype: int64"
      ]
     },
     "execution_count": 348,
     "metadata": {},
     "output_type": "execute_result"
    }
   ],
   "source": [
    "numeric_cars.isnull().sum()"
   ]
  },
  {
   "cell_type": "markdown",
   "metadata": {},
   "source": [
    "There is some nulls value in some columns. We will delete all rows with null prices and after we will substitute the lines with the null values for the column average."
   ]
  },
  {
   "cell_type": "code",
   "execution_count": 349,
   "metadata": {
    "collapsed": false
   },
   "outputs": [
    {
     "name": "stdout",
     "output_type": "stream",
     "text": [
      "<class 'pandas.core.frame.DataFrame'>\n",
      "Int64Index: 201 entries, 0 to 204\n",
      "Data columns (total 14 columns):\n",
      "normalized_losses    201 non-null float64\n",
      "wheel_base           201 non-null float64\n",
      "length               201 non-null float64\n",
      "width                201 non-null float64\n",
      "height               201 non-null float64\n",
      "curb_weight          201 non-null int64\n",
      "bore                 201 non-null float64\n",
      "stroke               201 non-null float64\n",
      "compression-ratio    201 non-null float64\n",
      "horsepower           201 non-null float64\n",
      "peak-rpm             201 non-null float64\n",
      "city-mpg             201 non-null int64\n",
      "highway-mpg          201 non-null int64\n",
      "price                201 non-null float64\n",
      "dtypes: float64(11), int64(3)\n",
      "memory usage: 23.6 KB\n"
     ]
    }
   ],
   "source": [
    "numeric_cars = numeric_cars.dropna(subset=['price'] )\n",
    "numeric_cars = numeric_cars.fillna(numeric_cars.mean())\n",
    "numeric_cars.info()"
   ]
  },
  {
   "cell_type": "markdown",
   "metadata": {},
   "source": [
    "After correcting the null values, we will normalize all columns (except price) to a range from 0 to 1."
   ]
  },
  {
   "cell_type": "code",
   "execution_count": 350,
   "metadata": {
    "collapsed": true
   },
   "outputs": [],
   "source": [
    "price_col = numeric_cars['price']\n",
    "numeric_cars = (numeric_cars - numeric_cars.min())/(numeric_cars.max() - numeric_cars.min())\n",
    "numeric_cars['price'] = price_col"
   ]
  },
  {
   "cell_type": "markdown",
   "metadata": {},
   "source": [
    "### Using an univariate model"
   ]
  },
  {
   "cell_type": "markdown",
   "metadata": {},
   "source": [
    "In this step, we will test all columns and five values of k (1, 3, 5, 7 and 9) and evaluates it's performance using RMSE. We will separate the data into a training set (75%) and a test set (25%). \n",
    "\n",
    "We will do this by firstly defining a function that takes a training column, a target column, a dataset and a value of k and returns the RMSE. Then we will use this function to loop trough the data."
   ]
  },
  {
   "cell_type": "code",
   "execution_count": 351,
   "metadata": {
    "collapsed": false
   },
   "outputs": [],
   "source": [
    "from math import sqrt\n",
    "from sklearn.neighbors import KNeighborsRegressor\n",
    "from sklearn.metrics import mean_squared_error\n",
    "\n",
    "def knn_train_test(training_column, target_column, dataframe, k):\n",
    "    # Shuffling the index and creating two sets:\n",
    "    shuffled_index = np.random.permutation(dataframe.index)\n",
    "    dataframe = dataframe.reindex(shuffled_index)\n",
    "    train_df = dataframe.iloc[0:150]\n",
    "    test_df = dataframe.iloc[150:]   \n",
    "\n",
    "    # Apllying the model\n",
    "    knn = KNeighborsRegressor(n_neighbors = k)\n",
    "    knn.fit(train_df[[training_column]], train_df[target_column])\n",
    "    predictions = knn.predict(test_df[[training_column]])\n",
    "    \n",
    "    # Returning the RMSE\n",
    "    mse = mean_squared_error(test_df[target_column], predictions) \n",
    "    return sqrt(mse)"
   ]
  },
  {
   "cell_type": "markdown",
   "metadata": {},
   "source": [
    "We will build a dictionary containing the feature as a key and as value a list containing the RMSE for the k_values."
   ]
  },
  {
   "cell_type": "code",
   "execution_count": 352,
   "metadata": {
    "collapsed": false
   },
   "outputs": [],
   "source": [
    "features = list(numeric_cars)\n",
    "features.remove('price')\n",
    "k_values = [1, 3, 5, 7, 9]\n",
    "mse_dict = {}\n",
    "\n",
    "for column in features:\n",
    "    mse_list = []\n",
    "    mse_dict[column] = mse_list\n",
    "    for k in k_values:\n",
    "        mse = round(knn_train_test(column, 'price', numeric_cars, k), 1)\n",
    "        mse_list.append(mse)       \n"
   ]
  },
  {
   "cell_type": "code",
   "execution_count": 353,
   "metadata": {
    "collapsed": false
   },
   "outputs": [
    {
     "data": {
      "text/html": [
       "<div>\n",
       "<style scoped>\n",
       "    .dataframe tbody tr th:only-of-type {\n",
       "        vertical-align: middle;\n",
       "    }\n",
       "\n",
       "    .dataframe tbody tr th {\n",
       "        vertical-align: top;\n",
       "    }\n",
       "\n",
       "    .dataframe thead th {\n",
       "        text-align: right;\n",
       "    }\n",
       "</style>\n",
       "<table border=\"1\" class=\"dataframe\">\n",
       "  <thead>\n",
       "    <tr style=\"text-align: right;\">\n",
       "      <th></th>\n",
       "      <th>bore</th>\n",
       "      <th>city-mpg</th>\n",
       "      <th>compression-ratio</th>\n",
       "      <th>curb_weight</th>\n",
       "      <th>height</th>\n",
       "      <th>highway-mpg</th>\n",
       "      <th>horsepower</th>\n",
       "      <th>length</th>\n",
       "      <th>normalized_losses</th>\n",
       "      <th>peak-rpm</th>\n",
       "      <th>stroke</th>\n",
       "      <th>wheel_base</th>\n",
       "      <th>width</th>\n",
       "    </tr>\n",
       "    <tr>\n",
       "      <th>k</th>\n",
       "      <th></th>\n",
       "      <th></th>\n",
       "      <th></th>\n",
       "      <th></th>\n",
       "      <th></th>\n",
       "      <th></th>\n",
       "      <th></th>\n",
       "      <th></th>\n",
       "      <th></th>\n",
       "      <th></th>\n",
       "      <th></th>\n",
       "      <th></th>\n",
       "      <th></th>\n",
       "    </tr>\n",
       "  </thead>\n",
       "  <tbody>\n",
       "    <tr>\n",
       "      <th>1</th>\n",
       "      <td>6644.6</td>\n",
       "      <td>6299.5</td>\n",
       "      <td>6648.4</td>\n",
       "      <td>6004.1</td>\n",
       "      <td>9498.3</td>\n",
       "      <td>4388.8</td>\n",
       "      <td>4654.3</td>\n",
       "      <td>5943.2</td>\n",
       "      <td>6434.8</td>\n",
       "      <td>9609.3</td>\n",
       "      <td>9763.6</td>\n",
       "      <td>7305.5</td>\n",
       "      <td>5200.3</td>\n",
       "    </tr>\n",
       "    <tr>\n",
       "      <th>3</th>\n",
       "      <td>4476.1</td>\n",
       "      <td>3480.8</td>\n",
       "      <td>7289.5</td>\n",
       "      <td>5468.4</td>\n",
       "      <td>9204.6</td>\n",
       "      <td>4826.1</td>\n",
       "      <td>3271.8</td>\n",
       "      <td>7124.2</td>\n",
       "      <td>8182.5</td>\n",
       "      <td>7524.1</td>\n",
       "      <td>5530.2</td>\n",
       "      <td>3901.5</td>\n",
       "      <td>4540.5</td>\n",
       "    </tr>\n",
       "    <tr>\n",
       "      <th>5</th>\n",
       "      <td>4873.1</td>\n",
       "      <td>3092.0</td>\n",
       "      <td>6148.0</td>\n",
       "      <td>3191.3</td>\n",
       "      <td>10514.5</td>\n",
       "      <td>5044.8</td>\n",
       "      <td>3637.8</td>\n",
       "      <td>4730.1</td>\n",
       "      <td>6955.7</td>\n",
       "      <td>9241.5</td>\n",
       "      <td>7055.6</td>\n",
       "      <td>5418.5</td>\n",
       "      <td>4215.0</td>\n",
       "    </tr>\n",
       "    <tr>\n",
       "      <th>7</th>\n",
       "      <td>6067.1</td>\n",
       "      <td>4503.1</td>\n",
       "      <td>7518.1</td>\n",
       "      <td>2586.7</td>\n",
       "      <td>6990.9</td>\n",
       "      <td>6309.0</td>\n",
       "      <td>3710.4</td>\n",
       "      <td>5735.9</td>\n",
       "      <td>6938.2</td>\n",
       "      <td>7980.3</td>\n",
       "      <td>8486.6</td>\n",
       "      <td>6519.1</td>\n",
       "      <td>4999.9</td>\n",
       "    </tr>\n",
       "    <tr>\n",
       "      <th>9</th>\n",
       "      <td>5907.6</td>\n",
       "      <td>5196.3</td>\n",
       "      <td>6717.0</td>\n",
       "      <td>3983.1</td>\n",
       "      <td>8382.9</td>\n",
       "      <td>3569.4</td>\n",
       "      <td>4567.4</td>\n",
       "      <td>5689.4</td>\n",
       "      <td>7579.4</td>\n",
       "      <td>7535.7</td>\n",
       "      <td>7144.9</td>\n",
       "      <td>8311.3</td>\n",
       "      <td>5824.0</td>\n",
       "    </tr>\n",
       "  </tbody>\n",
       "</table>\n",
       "</div>"
      ],
      "text/plain": [
       "     bore  city-mpg  compression-ratio  curb_weight   height  highway-mpg  \\\n",
       "k                                                                           \n",
       "1  6644.6    6299.5             6648.4       6004.1   9498.3       4388.8   \n",
       "3  4476.1    3480.8             7289.5       5468.4   9204.6       4826.1   \n",
       "5  4873.1    3092.0             6148.0       3191.3  10514.5       5044.8   \n",
       "7  6067.1    4503.1             7518.1       2586.7   6990.9       6309.0   \n",
       "9  5907.6    5196.3             6717.0       3983.1   8382.9       3569.4   \n",
       "\n",
       "   horsepower  length  normalized_losses  peak-rpm  stroke  wheel_base   width  \n",
       "k                                                                               \n",
       "1      4654.3  5943.2             6434.8    9609.3  9763.6      7305.5  5200.3  \n",
       "3      3271.8  7124.2             8182.5    7524.1  5530.2      3901.5  4540.5  \n",
       "5      3637.8  4730.1             6955.7    9241.5  7055.6      5418.5  4215.0  \n",
       "7      3710.4  5735.9             6938.2    7980.3  8486.6      6519.1  4999.9  \n",
       "9      4567.4  5689.4             7579.4    7535.7  7144.9      8311.3  5824.0  "
      ]
     },
     "execution_count": 353,
     "metadata": {},
     "output_type": "execute_result"
    }
   ],
   "source": [
    "univariate_mse = pd.DataFrame(data = mse_dict)\n",
    "univariate_mse['k'] = [1, 3, 5, 7, 9]\n",
    "univariate_mse = univariate_mse.set_index('k')\n",
    "univariate_mse"
   ]
  },
  {
   "cell_type": "code",
   "execution_count": 354,
   "metadata": {
    "collapsed": false
   },
   "outputs": [
    {
     "data": {
      "text/plain": [
       "horsepower           3968.34\n",
       "curb_weight          4246.72\n",
       "city-mpg             4514.34\n",
       "highway-mpg          4827.62\n",
       "width                4955.94\n",
       "bore                 5593.70\n",
       "length               5844.56\n",
       "wheel_base           6291.18\n",
       "compression-ratio    6864.20\n",
       "normalized_losses    7218.12\n",
       "stroke               7596.18\n",
       "peak-rpm             8378.18\n",
       "height               8918.24\n",
       "dtype: float64"
      ]
     },
     "execution_count": 354,
     "metadata": {},
     "output_type": "execute_result"
    }
   ],
   "source": [
    "univariate_mse.mean().sort_values()"
   ]
  },
  {
   "cell_type": "code",
   "execution_count": 355,
   "metadata": {
    "collapsed": false
   },
   "outputs": [
    {
     "data": {
      "text/plain": [
       "curb_weight          2586.7\n",
       "city-mpg             3092.0\n",
       "horsepower           3271.8\n",
       "highway-mpg          3569.4\n",
       "wheel_base           3901.5\n",
       "width                4215.0\n",
       "bore                 4476.1\n",
       "length               4730.1\n",
       "stroke               5530.2\n",
       "compression-ratio    6148.0\n",
       "normalized_losses    6434.8\n",
       "height               6990.9\n",
       "peak-rpm             7524.1\n",
       "dtype: float64"
      ]
     },
     "execution_count": 355,
     "metadata": {},
     "output_type": "execute_result"
    }
   ],
   "source": [
    "univariate_mse.min().sort_values()"
   ]
  },
  {
   "cell_type": "code",
   "execution_count": 356,
   "metadata": {
    "collapsed": false
   },
   "outputs": [
    {
     "data": {
      "text/plain": [
       "([<matplotlib.axis.XTick at 0x7f8addbe7c18>,\n",
       "  <matplotlib.axis.XTick at 0x7f8addc49240>,\n",
       "  <matplotlib.axis.XTick at 0x7f8addb92be0>,\n",
       "  <matplotlib.axis.XTick at 0x7f8addb98da0>,\n",
       "  <matplotlib.axis.XTick at 0x7f8addb9c8d0>],\n",
       " <a list of 5 Text xticklabel objects>)"
      ]
     },
     "execution_count": 356,
     "metadata": {},
     "output_type": "execute_result"
    },
    {
     "data": {
      "image/png": "[encoded data removed]",
      "text/plain": [
       "<matplotlib.figure.Figure at 0x7f8addbd46d8>"
      ]
     },
     "metadata": {},
     "output_type": "display_data"
    }
   ],
   "source": [
    "import matplotlib.pyplot as plt\n",
    "% matplotlib inline\n",
    "\n",
    "plt.style.use('fivethirtyeight')\n",
    "\n",
    "univariate_mse.mean(axis=1).plot()\n",
    "plt.xticks([1,3,5,7,9])"
   ]
  },
  {
   "cell_type": "markdown",
   "metadata": {},
   "source": [
    "Analysing the data, we can see that the horsepower is the best single feature to predict the price, having the lowest average and minimum RMSE. \n",
    "\n",
    "Also, analysing the values of k, we can see that the values increase from 1 to 3 and to 5, but decreases for k equal to seven and nine. The next step is to see how the k values behaves for the three best features (horsepower, city-mpg, width"
   ]
  },
  {
   "cell_type": "code",
   "execution_count": 357,
   "metadata": {
    "collapsed": false
   },
   "outputs": [
    {
     "data": {
      "text/plain": [
       "<matplotlib.legend.Legend at 0x7f8adfb575c0>"
      ]
     },
     "execution_count": 357,
     "metadata": {},
     "output_type": "execute_result"
    },
    {
     "data": {
      "image/png": "[encoded data removed]",
      "text/plain": [
       "<matplotlib.figure.Figure at 0x7f8addc240b8>"
      ]
     },
     "metadata": {},
     "output_type": "display_data"
    }
   ],
   "source": [
    "import matplotlib.pyplot as plt\n",
    "% matplotlib inline\n",
    "\n",
    "\n",
    "fig, ax = plt.subplots(figsize=(12,6))\n",
    "\n",
    "univariate_mse['horsepower'].plot()\n",
    "univariate_mse['city-mpg'].plot()\n",
    "univariate_mse['width'].plot()\n",
    "plt.xticks([1,3,5,7,9])\n",
    "plt.title('RMSE for Horsepower')\n",
    "plt.ylabel('RMSE')\n",
    "plt.xlabel('k')\n",
    "plt.legend(loc='upper left')\n"
   ]
  },
  {
   "cell_type": "markdown",
   "metadata": {},
   "source": [
    "As we can see in the graph, for the horsepower column the best value for k is 1, for city-mpg it's 5 and for width it's 3 or 5. This shows that the optimal level of k depends of the features analysed."
   ]
  },
  {
   "cell_type": "markdown",
   "metadata": {},
   "source": [
    "### Using a multivariate model"
   ]
  },
  {
   "cell_type": "markdown",
   "metadata": {},
   "source": [
    "In the next step, we will modify our function to consider more than one feature. We will test the performance of 2, 3, 4, 5 features (we will choose them by looking at the best features in the last step). After, we will compare those models with the use of all features in the dataset.\n",
    "\n",
    "All the comparison will be made varying the k values from 1 to 9. "
   ]
  },
  {
   "cell_type": "code",
   "execution_count": 358,
   "metadata": {
    "collapsed": true
   },
   "outputs": [],
   "source": [
    "def knn_train_test_multi(training_columns, target_column, dataframe, k):\n",
    "    # Shuffling the index and creating two sets:\n",
    "    shuffled_index = np.random.permutation(dataframe.index)\n",
    "    dataframe = dataframe.reindex(shuffled_index)\n",
    "    train_df = dataframe.iloc[0:150]\n",
    "    test_df = dataframe.iloc[150:]   \n",
    "\n",
    "    # Apllying the model\n",
    "    knn = KNeighborsRegressor(n_neighbors = k)\n",
    "    knn.fit(train_df[training_columns], train_df[target_column])\n",
    "    predictions = knn.predict(test_df[training_columns])\n",
    "    \n",
    "    # Returning the RMSE\n",
    "    mse = mean_squared_error(test_df[target_column], predictions) \n",
    "    return sqrt(mse)"
   ]
  },
  {
   "cell_type": "code",
   "execution_count": 359,
   "metadata": {
    "collapsed": false
   },
   "outputs": [],
   "source": [
    "rmse = knn_train_test_multi(['horsepower', 'width'], 'price', numeric_cars, 2)"
   ]
  },
  {
   "cell_type": "code",
   "execution_count": 360,
   "metadata": {
    "collapsed": false
   },
   "outputs": [],
   "source": [
    "two_features = ['horsepower', 'width']\n",
    "three_features = ['horsepower', 'width', 'city-mpg']\n",
    "four_features = ['horsepower', 'width', 'city-mpg', 'curb_weight']\n",
    "five_features = ['horsepower', 'width', 'city-mpg', 'curb_weight', 'highway-mpg']\n",
    "all_features = list(numeric_cars.columns)\n",
    "all_features.remove('price')\n",
    "feature_combination = [two_features, three_features, four_features, five_features, all_features]\n",
    "feature_names= ['two_features', 'three_features', 'four_features', 'five_features', 'all_features']\n",
    "k_values = [i for i in range(1, 26)]\n",
    "mse_dict_multi = {}\n",
    "\n",
    "for index, features in enumerate(feature_combination):\n",
    "    mse_list = []\n",
    "    mse_dict_multi[feature_names[index]] = mse_list\n",
    "    for k in k_values:\n",
    "        mse = round(knn_train_test_multi(features, 'price', numeric_cars, k), 1)\n",
    "        mse_list.append(mse)       \n"
   ]
  },
  {
   "cell_type": "code",
   "execution_count": 361,
   "metadata": {
    "collapsed": false
   },
   "outputs": [
    {
     "data": {
      "text/html": [
       "<div>\n",
       "<style scoped>\n",
       "    .dataframe tbody tr th:only-of-type {\n",
       "        vertical-align: middle;\n",
       "    }\n",
       "\n",
       "    .dataframe tbody tr th {\n",
       "        vertical-align: top;\n",
       "    }\n",
       "\n",
       "    .dataframe thead th {\n",
       "        text-align: right;\n",
       "    }\n",
       "</style>\n",
       "<table border=\"1\" class=\"dataframe\">\n",
       "  <thead>\n",
       "    <tr style=\"text-align: right;\">\n",
       "      <th></th>\n",
       "      <th>all_features</th>\n",
       "      <th>five_features</th>\n",
       "      <th>four_features</th>\n",
       "      <th>three_features</th>\n",
       "      <th>two_features</th>\n",
       "    </tr>\n",
       "    <tr>\n",
       "      <th>k</th>\n",
       "      <th></th>\n",
       "      <th></th>\n",
       "      <th></th>\n",
       "      <th></th>\n",
       "      <th></th>\n",
       "    </tr>\n",
       "  </thead>\n",
       "  <tbody>\n",
       "    <tr>\n",
       "      <th>1</th>\n",
       "      <td>2597.0</td>\n",
       "      <td>2392.2</td>\n",
       "      <td>2898.5</td>\n",
       "      <td>2703.8</td>\n",
       "      <td>3165.7</td>\n",
       "    </tr>\n",
       "    <tr>\n",
       "      <th>2</th>\n",
       "      <td>5378.5</td>\n",
       "      <td>2334.6</td>\n",
       "      <td>3488.6</td>\n",
       "      <td>2539.4</td>\n",
       "      <td>3267.4</td>\n",
       "    </tr>\n",
       "    <tr>\n",
       "      <th>3</th>\n",
       "      <td>2815.5</td>\n",
       "      <td>2520.0</td>\n",
       "      <td>2470.1</td>\n",
       "      <td>3517.0</td>\n",
       "      <td>2788.6</td>\n",
       "    </tr>\n",
       "    <tr>\n",
       "      <th>4</th>\n",
       "      <td>4602.4</td>\n",
       "      <td>2808.4</td>\n",
       "      <td>2612.3</td>\n",
       "      <td>4741.4</td>\n",
       "      <td>3200.9</td>\n",
       "    </tr>\n",
       "    <tr>\n",
       "      <th>5</th>\n",
       "      <td>3471.3</td>\n",
       "      <td>2401.7</td>\n",
       "      <td>2038.0</td>\n",
       "      <td>2991.8</td>\n",
       "      <td>4367.1</td>\n",
       "    </tr>\n",
       "    <tr>\n",
       "      <th>6</th>\n",
       "      <td>3617.6</td>\n",
       "      <td>3927.8</td>\n",
       "      <td>4068.9</td>\n",
       "      <td>3748.0</td>\n",
       "      <td>3001.6</td>\n",
       "    </tr>\n",
       "    <tr>\n",
       "      <th>7</th>\n",
       "      <td>3172.4</td>\n",
       "      <td>3097.5</td>\n",
       "      <td>2411.6</td>\n",
       "      <td>2725.7</td>\n",
       "      <td>5286.2</td>\n",
       "    </tr>\n",
       "    <tr>\n",
       "      <th>8</th>\n",
       "      <td>5284.0</td>\n",
       "      <td>2518.3</td>\n",
       "      <td>2564.5</td>\n",
       "      <td>3127.9</td>\n",
       "      <td>3052.0</td>\n",
       "    </tr>\n",
       "    <tr>\n",
       "      <th>9</th>\n",
       "      <td>3163.3</td>\n",
       "      <td>4739.7</td>\n",
       "      <td>2570.3</td>\n",
       "      <td>3150.0</td>\n",
       "      <td>2817.3</td>\n",
       "    </tr>\n",
       "    <tr>\n",
       "      <th>10</th>\n",
       "      <td>4913.3</td>\n",
       "      <td>2345.3</td>\n",
       "      <td>4362.3</td>\n",
       "      <td>3588.0</td>\n",
       "      <td>4841.8</td>\n",
       "    </tr>\n",
       "    <tr>\n",
       "      <th>11</th>\n",
       "      <td>6006.6</td>\n",
       "      <td>5399.0</td>\n",
       "      <td>4048.8</td>\n",
       "      <td>2814.6</td>\n",
       "      <td>3584.3</td>\n",
       "    </tr>\n",
       "    <tr>\n",
       "      <th>12</th>\n",
       "      <td>4844.5</td>\n",
       "      <td>4052.0</td>\n",
       "      <td>2909.2</td>\n",
       "      <td>3125.4</td>\n",
       "      <td>3997.2</td>\n",
       "    </tr>\n",
       "    <tr>\n",
       "      <th>13</th>\n",
       "      <td>4751.8</td>\n",
       "      <td>3816.3</td>\n",
       "      <td>3723.5</td>\n",
       "      <td>3726.4</td>\n",
       "      <td>4717.7</td>\n",
       "    </tr>\n",
       "    <tr>\n",
       "      <th>14</th>\n",
       "      <td>3407.5</td>\n",
       "      <td>4525.6</td>\n",
       "      <td>3848.6</td>\n",
       "      <td>3435.1</td>\n",
       "      <td>4099.4</td>\n",
       "    </tr>\n",
       "    <tr>\n",
       "      <th>15</th>\n",
       "      <td>4745.3</td>\n",
       "      <td>3295.4</td>\n",
       "      <td>4556.8</td>\n",
       "      <td>3432.5</td>\n",
       "      <td>3042.9</td>\n",
       "    </tr>\n",
       "    <tr>\n",
       "      <th>16</th>\n",
       "      <td>3868.8</td>\n",
       "      <td>3216.5</td>\n",
       "      <td>3347.0</td>\n",
       "      <td>4594.0</td>\n",
       "      <td>5153.2</td>\n",
       "    </tr>\n",
       "    <tr>\n",
       "      <th>17</th>\n",
       "      <td>7571.4</td>\n",
       "      <td>4994.6</td>\n",
       "      <td>4927.5</td>\n",
       "      <td>4909.6</td>\n",
       "      <td>4958.5</td>\n",
       "    </tr>\n",
       "    <tr>\n",
       "      <th>18</th>\n",
       "      <td>4697.9</td>\n",
       "      <td>2505.0</td>\n",
       "      <td>4770.6</td>\n",
       "      <td>2906.4</td>\n",
       "      <td>4244.1</td>\n",
       "    </tr>\n",
       "    <tr>\n",
       "      <th>19</th>\n",
       "      <td>5944.4</td>\n",
       "      <td>5497.9</td>\n",
       "      <td>3425.7</td>\n",
       "      <td>3817.8</td>\n",
       "      <td>2886.9</td>\n",
       "    </tr>\n",
       "    <tr>\n",
       "      <th>20</th>\n",
       "      <td>4097.5</td>\n",
       "      <td>4432.7</td>\n",
       "      <td>4297.2</td>\n",
       "      <td>3201.1</td>\n",
       "      <td>5751.1</td>\n",
       "    </tr>\n",
       "    <tr>\n",
       "      <th>21</th>\n",
       "      <td>5757.7</td>\n",
       "      <td>5011.3</td>\n",
       "      <td>2957.2</td>\n",
       "      <td>4047.2</td>\n",
       "      <td>5737.3</td>\n",
       "    </tr>\n",
       "    <tr>\n",
       "      <th>22</th>\n",
       "      <td>5221.6</td>\n",
       "      <td>4746.6</td>\n",
       "      <td>3352.3</td>\n",
       "      <td>5878.4</td>\n",
       "      <td>4658.3</td>\n",
       "    </tr>\n",
       "    <tr>\n",
       "      <th>23</th>\n",
       "      <td>5093.1</td>\n",
       "      <td>3839.5</td>\n",
       "      <td>4637.2</td>\n",
       "      <td>4423.3</td>\n",
       "      <td>3913.2</td>\n",
       "    </tr>\n",
       "    <tr>\n",
       "      <th>24</th>\n",
       "      <td>5794.9</td>\n",
       "      <td>4246.5</td>\n",
       "      <td>3906.7</td>\n",
       "      <td>4141.4</td>\n",
       "      <td>4489.3</td>\n",
       "    </tr>\n",
       "    <tr>\n",
       "      <th>25</th>\n",
       "      <td>6257.6</td>\n",
       "      <td>4323.0</td>\n",
       "      <td>3051.5</td>\n",
       "      <td>4230.5</td>\n",
       "      <td>3645.2</td>\n",
       "    </tr>\n",
       "  </tbody>\n",
       "</table>\n",
       "</div>"
      ],
      "text/plain": [
       "    all_features  five_features  four_features  three_features  two_features\n",
       "k                                                                           \n",
       "1         2597.0         2392.2         2898.5          2703.8        3165.7\n",
       "2         5378.5         2334.6         3488.6          2539.4        3267.4\n",
       "3         2815.5         2520.0         2470.1          3517.0        2788.6\n",
       "4         4602.4         2808.4         2612.3          4741.4        3200.9\n",
       "5         3471.3         2401.7         2038.0          2991.8        4367.1\n",
       "6         3617.6         3927.8         4068.9          3748.0        3001.6\n",
       "7         3172.4         3097.5         2411.6          2725.7        5286.2\n",
       "8         5284.0         2518.3         2564.5          3127.9        3052.0\n",
       "9         3163.3         4739.7         2570.3          3150.0        2817.3\n",
       "10        4913.3         2345.3         4362.3          3588.0        4841.8\n",
       "11        6006.6         5399.0         4048.8          2814.6        3584.3\n",
       "12        4844.5         4052.0         2909.2          3125.4        3997.2\n",
       "13        4751.8         3816.3         3723.5          3726.4        4717.7\n",
       "14        3407.5         4525.6         3848.6          3435.1        4099.4\n",
       "15        4745.3         3295.4         4556.8          3432.5        3042.9\n",
       "16        3868.8         3216.5         3347.0          4594.0        5153.2\n",
       "17        7571.4         4994.6         4927.5          4909.6        4958.5\n",
       "18        4697.9         2505.0         4770.6          2906.4        4244.1\n",
       "19        5944.4         5497.9         3425.7          3817.8        2886.9\n",
       "20        4097.5         4432.7         4297.2          3201.1        5751.1\n",
       "21        5757.7         5011.3         2957.2          4047.2        5737.3\n",
       "22        5221.6         4746.6         3352.3          5878.4        4658.3\n",
       "23        5093.1         3839.5         4637.2          4423.3        3913.2\n",
       "24        5794.9         4246.5         3906.7          4141.4        4489.3\n",
       "25        6257.6         4323.0         3051.5          4230.5        3645.2"
      ]
     },
     "execution_count": 361,
     "metadata": {},
     "output_type": "execute_result"
    }
   ],
   "source": [
    "multivariate_mse = pd.DataFrame(data = mse_dict_multi)\n",
    "multivariate_mse['k'] = k_values\n",
    "multivariate_mse =multivariate_mse.set_index('k')\n",
    "multivariate_mse"
   ]
  },
  {
   "cell_type": "code",
   "execution_count": 362,
   "metadata": {
    "collapsed": false
   },
   "outputs": [
    {
     "data": {
      "text/plain": [
       "four_features     2038.0\n",
       "five_features     2334.6\n",
       "three_features    2539.4\n",
       "all_features      2597.0\n",
       "two_features      2788.6\n",
       "dtype: float64"
      ]
     },
     "execution_count": 362,
     "metadata": {},
     "output_type": "execute_result"
    }
   ],
   "source": [
    "multivariate_mse.min().sort_values()"
   ]
  },
  {
   "cell_type": "code",
   "execution_count": 363,
   "metadata": {
    "collapsed": false
   },
   "outputs": [
    {
     "data": {
      "text/plain": [
       "<matplotlib.text.Text at 0x7f8ade148908>"
      ]
     },
     "execution_count": 363,
     "metadata": {},
     "output_type": "execute_result"
    },
    {
     "data": {
      "image/png": "[encoded data removed]",
      "text/plain": [
       "<matplotlib.figure.Figure at 0x7f8addd24048>"
      ]
     },
     "metadata": {},
     "output_type": "display_data"
    }
   ],
   "source": [
    "multivariate_mse['three_features'].plot()\n",
    "plt.title('RMSE using three features')\n",
    "plt.ylabel('RMSE')\n",
    "plt.xlabel('k')"
   ]
  },
  {
   "cell_type": "markdown",
   "metadata": {},
   "source": [
    "The best model (lowest RMSE) was using three features (horsepower, width and city-mpg) and a k value of 2 (RMSE equals to 1997.5)."
   ]
  },
  {
   "cell_type": "markdown",
   "metadata": {},
   "source": [
    "### Conclusions"
   ]
  },
  {
   "cell_type": "markdown",
   "metadata": {},
   "source": [
    "The biggest conclusion of this project is that using more features than just one is better (we reduced the RMSE from 2599.6 to 1997.5 comparing the univariate model to three features).\n",
    "\n",
    "Nevertheless, increasing the number of features is not always better; in this project, using four, five or all features increased the errors. Also, the same logic applies to the hyperparameter k, the ideal number depends on the number of features; using three features the best value was 3 (bigger values increased the RMSE)."
   ]
  }
 ],
 "metadata": {
  "kernelspec": {
   "display_name": "Python 3",
   "language": "python",
   "name": "python3"
  },
  "language_info": {
   "codemirror_mode": {
    "name": "ipython",
    "version": 3
   },
   "file_extension": ".py",
   "mimetype": "text/x-python",
   "name": "python",
   "nbconvert_exporter": "python",
   "pygments_lexer": "ipython3",
   "version": "3.4.3"
  }
 },
 "nbformat": 4,
 "nbformat_minor": 2
}
