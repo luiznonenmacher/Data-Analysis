{
 "cells": [
  {
   "cell_type": "markdown",
   "metadata": {
    "collapsed": true
   },
   "source": [
    "# Predicting House Sale Prices"
   ]
  },
  {
   "cell_type": "markdown",
   "metadata": {},
   "source": [
    "### Introduction"
   ]
  },
  {
   "cell_type": "markdown",
   "metadata": {},
   "source": [
    "In this project we will apply the linear regression model to predict house sale prices from the citiy of Ames, Iowa, from 2006 to 2010. More about the dataset can be read [here](http://ww2.amstat.org/publications/jse/v19n3/decock.pdf) and [here](https://ww2.amstat.org/publications/jse/v19n3/decock/DataDocumentation.txt).\n",
    "\n",
    "The project will be done in 4 steps, where we first read the data, process the columns from the dataset, select the best features for the model and finally, makes the predictions and evaluates the model error. The model error will be evaluated by the average RMSE using a 5-fold cross validation.\n",
    "\n",
    "After applying all the steps, the best model retained 19 variables and had an average RMSE of 24,168. The 19 retained variables are: Overall Qual, Gr Liv Area, Exter Qual, Kitchen Qual, Bsmt Qual, 1st Flr SF, Full Bath, Garage Area, Total Bsmt SF, Years since remodel, Fireplaces, TotRms AbvGrd, Year Built, Mas Vnr Area, Years when Sold, Foundation, Lot Shape, Bsmt Exposure and BsmtFin SF 1."
   ]
  },
  {
   "cell_type": "markdown",
   "metadata": {},
   "source": [
    "### 1 - Reading the data"
   ]
  },
  {
   "cell_type": "code",
   "execution_count": 151,
   "metadata": {
    "collapsed": false
   },
   "outputs": [],
   "source": [
    "import pandas as pd\n",
    "import numpy as np\n",
    "\n",
    "df = pd.read_csv(\"AmesHousing.tsv\", delimiter=\"\\t\")"
   ]
  },
  {
   "cell_type": "markdown",
   "metadata": {},
   "source": [
    "### 2 - Processing the features"
   ]
  },
  {
   "cell_type": "markdown",
   "metadata": {},
   "source": [
    "In this step, we will process the columns, in 4 steps:\n",
    "\n",
    "- Creating new columns by combinating and processing columns\n",
    "- Removing the columns that leak information (columns that wouldn't be available at the time)\n",
    "- Removing the columns that ren't useful for ML purposes\n",
    "- Removing the columns with a significant number of missing rows and replacing missing values for other columns"
   ]
  },
  {
   "cell_type": "markdown",
   "metadata": {},
   "source": [
    "#### Creating new columns"
   ]
  },
  {
   "cell_type": "code",
   "execution_count": 152,
   "metadata": {
    "collapsed": false
   },
   "outputs": [],
   "source": [
    "### Creating new columns by combinating and processing columns\n",
    "\n",
    "df['Years when Sold'] = df['Yr Sold'] - df['Year Built']\n",
    "df['Years since remodel'] = df['Yr Sold'] - df['Year Remod/Add']\n",
    "\n",
    "df = df[df['Years when Sold'] > 0] # Removing rows with negative values\n",
    "df = df[df['Years since remodel'] > 0] # Removing rows with negative values\n"
   ]
  },
  {
   "cell_type": "markdown",
   "metadata": {},
   "source": [
    "#### Dropping columns that leak informations or aren't useful"
   ]
  },
  {
   "cell_type": "code",
   "execution_count": 153,
   "metadata": {
    "collapsed": false
   },
   "outputs": [],
   "source": [
    "## Drop columns that aren't useful for ML\n",
    "df = df.drop([\"PID\", \"Order\"], axis=1)\n",
    "\n",
    "## Drop columns that leak info about the final sale\n",
    "df = df.drop([\"Mo Sold\", \"Sale Condition\", \"Sale Type\", \"Yr Sold\", \"Year Remod/Add\"], axis=1)\n",
    "\n",
    "## Drop redundant columns (same information)\n",
    "df = df.drop([\"Garage Cars\"], axis=1) # Same as Garage Area"
   ]
  },
  {
   "cell_type": "markdown",
   "metadata": {},
   "source": [
    "#### Dealing with missing values"
   ]
  },
  {
   "cell_type": "code",
   "execution_count": 154,
   "metadata": {
    "collapsed": false
   },
   "outputs": [
    {
     "data": {
      "text/plain": [
       "0       50\n",
       "1        6\n",
       "2        2\n",
       "12       2\n",
       "80       3\n",
       "81       1\n",
       "82       1\n",
       "152      1\n",
       "154      4\n",
       "484      1\n",
       "1330     1\n",
       "2119     1\n",
       "2506     1\n",
       "2584     1\n",
       "2677     1\n",
       "dtype: int64"
      ]
     },
     "execution_count": 154,
     "metadata": {},
     "output_type": "execute_result"
    }
   ],
   "source": [
    "df.isnull().sum().value_counts().sort_index()"
   ]
  },
  {
   "cell_type": "markdown",
   "metadata": {},
   "source": [
    "Firstly, we will remove all columns with more than 5% of missing values."
   ]
  },
  {
   "cell_type": "code",
   "execution_count": 155,
   "metadata": {
    "collapsed": false
   },
   "outputs": [],
   "source": [
    "threshold = 0.05 * len(df)\n",
    "null_counts = df.isnull().sum()\n",
    "columns_to_remove = null_counts[null_counts > threshold].index\n",
    "df = df.drop(columns_to_remove, axis=1)"
   ]
  },
  {
   "cell_type": "code",
   "execution_count": 156,
   "metadata": {
    "collapsed": false
   },
   "outputs": [
    {
     "data": {
      "text/plain": [
       "0     50\n",
       "1      6\n",
       "2      2\n",
       "12     2\n",
       "80     3\n",
       "81     1\n",
       "82     1\n",
       "dtype: int64"
      ]
     },
     "execution_count": 156,
     "metadata": {},
     "output_type": "execute_result"
    }
   ],
   "source": [
    "df.isnull().sum().value_counts().sort_index()"
   ]
  },
  {
   "cell_type": "markdown",
   "metadata": {},
   "source": [
    "Then, we will replace the rest of missing values by the most common value (mode) of each column."
   ]
  },
  {
   "cell_type": "code",
   "execution_count": 157,
   "metadata": {
    "collapsed": false
   },
   "outputs": [],
   "source": [
    "replacement_value = df.mode().to_dict(orient='records')[0]\n",
    "df = df.fillna(replacement_value)"
   ]
  },
  {
   "cell_type": "code",
   "execution_count": 158,
   "metadata": {
    "collapsed": false
   },
   "outputs": [
    {
     "data": {
      "text/plain": [
       "0    65\n",
       "dtype: int64"
      ]
     },
     "execution_count": 158,
     "metadata": {},
     "output_type": "execute_result"
    }
   ],
   "source": [
    "df.isnull().sum().value_counts().sort_index()"
   ]
  },
  {
   "cell_type": "markdown",
   "metadata": {},
   "source": [
    "### 3 - Selecting features"
   ]
  },
  {
   "cell_type": "markdown",
   "metadata": {},
   "source": [
    "#### Numerical columns"
   ]
  },
  {
   "cell_type": "markdown",
   "metadata": {},
   "source": [
    "The first step we will take is to calculate the correlation between each numerical column and the Sale Price. With this, we will set a threshold and remove the variables above. After, we will generate a heatmap for the remaining columns so we can find correlations between variables and remove them."
   ]
  },
  {
   "cell_type": "code",
   "execution_count": 159,
   "metadata": {
    "collapsed": false
   },
   "outputs": [
    {
     "data": {
      "text/plain": [
       "BsmtFin SF 1           0.450672\n",
       "Mas Vnr Area           0.469301\n",
       "TotRms AbvGrd          0.476159\n",
       "Fireplaces             0.488419\n",
       "Years since remodel    0.515419\n",
       "Years when Sold        0.538845\n",
       "Year Built             0.539103\n",
       "Full Bath              0.541690\n",
       "Garage Area            0.608802\n",
       "1st Flr SF             0.623102\n",
       "Total Bsmt SF          0.632745\n",
       "Gr Liv Area            0.724094\n",
       "Overall Qual           0.785137\n",
       "SalePrice              1.000000\n",
       "Name: SalePrice, dtype: float64"
      ]
     },
     "execution_count": 159,
     "metadata": {},
     "output_type": "execute_result"
    }
   ],
   "source": [
    "import matplotlib.pyplot as plt\n",
    "import seaborn as sns\n",
    "% matplotlib inline\n",
    "\n",
    "numerical_cols = df.select_dtypes(include=['int', 'float']).columns\n",
    "correlations = df[numerical_cols].corr()['SalePrice'].abs().sort_values()\n",
    "columns_to_remove = correlations[correlations < 0.4].index\n",
    "df = df.drop(columns_to_remove, axis=1)\n",
    "numerical_cols = df.select_dtypes(include=['int', 'float']).columns\n",
    "df[numerical_cols].corr()['SalePrice'].abs().sort_values()"
   ]
  },
  {
   "cell_type": "code",
   "execution_count": 160,
   "metadata": {
    "collapsed": false
   },
   "outputs": [
    {
     "data": {
      "text/plain": [
       "<matplotlib.axes._subplots.AxesSubplot at 0x7fc5ac7cf5f8>"
      ]
     },
     "execution_count": 160,
     "metadata": {},
     "output_type": "execute_result"
    },
    {
     "data": {
      "image/png": "[encoded data removed]",
      "text/plain": [
       "<matplotlib.figure.Figure at 0x7fc5ac7ff748>"
      ]
     },
     "metadata": {},
     "output_type": "display_data"
    }
   ],
   "source": [
    "sns.heatmap(df[numerical_cols].corr())"
   ]
  },
  {
   "cell_type": "markdown",
   "metadata": {},
   "source": [
    "There's not much correlation for the numerical columns, so we will keep those columns."
   ]
  },
  {
   "cell_type": "markdown",
   "metadata": {},
   "source": [
    "#### Categorical columns"
   ]
  },
  {
   "cell_type": "markdown",
   "metadata": {},
   "source": [
    "For the remaining object columns, we will look at each one to see if how many different values they contain and what is the distribuition between those values, so we can choose what columns to remain in the model."
   ]
  },
  {
   "cell_type": "code",
   "execution_count": 165,
   "metadata": {
    "collapsed": false
   },
   "outputs": [
    {
     "data": {
      "text/html": [
       "<div>\n",
       "<style scoped>\n",
       "    .dataframe tbody tr th:only-of-type {\n",
       "        vertical-align: middle;\n",
       "    }\n",
       "\n",
       "    .dataframe tbody tr th {\n",
       "        vertical-align: top;\n",
       "    }\n",
       "\n",
       "    .dataframe thead th {\n",
       "        text-align: right;\n",
       "    }\n",
       "</style>\n",
       "<table border=\"1\" class=\"dataframe\">\n",
       "  <thead>\n",
       "    <tr style=\"text-align: right;\">\n",
       "      <th></th>\n",
       "      <th>variable</th>\n",
       "      <th>elements</th>\n",
       "      <th>percentage_first_element</th>\n",
       "      <th>percentage_second_element</th>\n",
       "    </tr>\n",
       "  </thead>\n",
       "  <tbody>\n",
       "    <tr>\n",
       "      <th>0</th>\n",
       "      <td>MS Zoning</td>\n",
       "      <td>7</td>\n",
       "      <td>0.774266</td>\n",
       "      <td>0.942730</td>\n",
       "    </tr>\n",
       "    <tr>\n",
       "      <th>1</th>\n",
       "      <td>Lot Shape</td>\n",
       "      <td>4</td>\n",
       "      <td>0.643362</td>\n",
       "      <td>0.969134</td>\n",
       "    </tr>\n",
       "    <tr>\n",
       "      <th>2</th>\n",
       "      <td>Lot Config</td>\n",
       "      <td>5</td>\n",
       "      <td>0.727780</td>\n",
       "      <td>0.904797</td>\n",
       "    </tr>\n",
       "    <tr>\n",
       "      <th>3</th>\n",
       "      <td>Neighborhood</td>\n",
       "      <td>28</td>\n",
       "      <td>0.164001</td>\n",
       "      <td>0.252138</td>\n",
       "    </tr>\n",
       "    <tr>\n",
       "      <th>4</th>\n",
       "      <td>House Style</td>\n",
       "      <td>8</td>\n",
       "      <td>0.494980</td>\n",
       "      <td>0.787282</td>\n",
       "    </tr>\n",
       "    <tr>\n",
       "      <th>5</th>\n",
       "      <td>Exterior 1st</td>\n",
       "      <td>16</td>\n",
       "      <td>0.313499</td>\n",
       "      <td>0.477129</td>\n",
       "    </tr>\n",
       "    <tr>\n",
       "      <th>6</th>\n",
       "      <td>Exterior 2nd</td>\n",
       "      <td>16</td>\n",
       "      <td>0.309781</td>\n",
       "      <td>0.470807</td>\n",
       "    </tr>\n",
       "    <tr>\n",
       "      <th>7</th>\n",
       "      <td>Mas Vnr Type</td>\n",
       "      <td>5</td>\n",
       "      <td>0.625511</td>\n",
       "      <td>0.928226</td>\n",
       "    </tr>\n",
       "    <tr>\n",
       "      <th>8</th>\n",
       "      <td>Exter Qual</td>\n",
       "      <td>4</td>\n",
       "      <td>0.660840</td>\n",
       "      <td>0.965787</td>\n",
       "    </tr>\n",
       "    <tr>\n",
       "      <th>9</th>\n",
       "      <td>Foundation</td>\n",
       "      <td>6</td>\n",
       "      <td>0.459279</td>\n",
       "      <td>0.861659</td>\n",
       "    </tr>\n",
       "    <tr>\n",
       "      <th>10</th>\n",
       "      <td>Bsmt Qual</td>\n",
       "      <td>5</td>\n",
       "      <td>0.503161</td>\n",
       "      <td>0.905169</td>\n",
       "    </tr>\n",
       "    <tr>\n",
       "      <th>11</th>\n",
       "      <td>Bsmt Exposure</td>\n",
       "      <td>4</td>\n",
       "      <td>0.695426</td>\n",
       "      <td>0.827817</td>\n",
       "    </tr>\n",
       "    <tr>\n",
       "      <th>12</th>\n",
       "      <td>BsmtFin Type 1</td>\n",
       "      <td>6</td>\n",
       "      <td>0.304946</td>\n",
       "      <td>0.579026</td>\n",
       "    </tr>\n",
       "    <tr>\n",
       "      <th>13</th>\n",
       "      <td>Heating QC</td>\n",
       "      <td>5</td>\n",
       "      <td>0.473038</td>\n",
       "      <td>0.793232</td>\n",
       "    </tr>\n",
       "    <tr>\n",
       "      <th>14</th>\n",
       "      <td>Kitchen Qual</td>\n",
       "      <td>5</td>\n",
       "      <td>0.551134</td>\n",
       "      <td>0.925251</td>\n",
       "    </tr>\n",
       "  </tbody>\n",
       "</table>\n",
       "</div>"
      ],
      "text/plain": [
       "          variable  elements  percentage_first_element  \\\n",
       "0        MS Zoning         7                  0.774266   \n",
       "1        Lot Shape         4                  0.643362   \n",
       "2       Lot Config         5                  0.727780   \n",
       "3     Neighborhood        28                  0.164001   \n",
       "4      House Style         8                  0.494980   \n",
       "5     Exterior 1st        16                  0.313499   \n",
       "6     Exterior 2nd        16                  0.309781   \n",
       "7     Mas Vnr Type         5                  0.625511   \n",
       "8       Exter Qual         4                  0.660840   \n",
       "9       Foundation         6                  0.459279   \n",
       "10       Bsmt Qual         5                  0.503161   \n",
       "11   Bsmt Exposure         4                  0.695426   \n",
       "12  BsmtFin Type 1         6                  0.304946   \n",
       "13      Heating QC         5                  0.473038   \n",
       "14    Kitchen Qual         5                  0.551134   \n",
       "\n",
       "    percentage_second_element  \n",
       "0                    0.942730  \n",
       "1                    0.969134  \n",
       "2                    0.904797  \n",
       "3                    0.252138  \n",
       "4                    0.787282  \n",
       "5                    0.477129  \n",
       "6                    0.470807  \n",
       "7                    0.928226  \n",
       "8                    0.965787  \n",
       "9                    0.861659  \n",
       "10                   0.905169  \n",
       "11                   0.827817  \n",
       "12                   0.579026  \n",
       "13                   0.793232  \n",
       "14                   0.925251  "
      ]
     },
     "execution_count": 165,
     "metadata": {},
     "output_type": "execute_result"
    }
   ],
   "source": [
    "categ_columns = df.select_dtypes(include=['object']).columns\n",
    "categorical_feat = pd.DataFrame(categ_columns, columns=['variable'])\n",
    "size_list = []\n",
    "perc_one_list = []\n",
    "perc_two_list = []\n",
    "for i in range(len(categorical_feat)):\n",
    "    feature = categorical_feat.iloc[i][0]\n",
    "    size = len(df[feature].value_counts())\n",
    "    percentage_one = df[feature].value_counts(normalize=True)[0]\n",
    "    percentage_two = percentage_one + df[feature].value_counts(normalize=True)[1]\n",
    "    size_list.append(size)\n",
    "    perc_one_list.append(percentage_one)\n",
    "    perc_two_list.append(percentage_two)\n",
    "\n",
    "categorical_feat['elements'] = size_list\n",
    "categorical_feat['percentage_first_element'] = perc_one_list\n",
    "categorical_feat['percentage_second_element'] = perc_two_list\n",
    "categorical_feat"
   ]
  },
  {
   "cell_type": "markdown",
   "metadata": {},
   "source": [
    "We will keep only the columns that have less than 80% of the rows in the first element."
   ]
  },
  {
   "cell_type": "code",
   "execution_count": 166,
   "metadata": {
    "collapsed": false
   },
   "outputs": [
    {
     "data": {
      "text/html": [
       "<div>\n",
       "<style scoped>\n",
       "    .dataframe tbody tr th:only-of-type {\n",
       "        vertical-align: middle;\n",
       "    }\n",
       "\n",
       "    .dataframe tbody tr th {\n",
       "        vertical-align: top;\n",
       "    }\n",
       "\n",
       "    .dataframe thead th {\n",
       "        text-align: right;\n",
       "    }\n",
       "</style>\n",
       "<table border=\"1\" class=\"dataframe\">\n",
       "  <thead>\n",
       "    <tr style=\"text-align: right;\">\n",
       "      <th></th>\n",
       "      <th>variable</th>\n",
       "      <th>elements</th>\n",
       "      <th>percentage_first_element</th>\n",
       "      <th>percentage_second_element</th>\n",
       "    </tr>\n",
       "  </thead>\n",
       "  <tbody>\n",
       "    <tr>\n",
       "      <th>0</th>\n",
       "      <td>MS Zoning</td>\n",
       "      <td>7</td>\n",
       "      <td>0.774266</td>\n",
       "      <td>0.942730</td>\n",
       "    </tr>\n",
       "    <tr>\n",
       "      <th>1</th>\n",
       "      <td>Lot Shape</td>\n",
       "      <td>4</td>\n",
       "      <td>0.643362</td>\n",
       "      <td>0.969134</td>\n",
       "    </tr>\n",
       "    <tr>\n",
       "      <th>2</th>\n",
       "      <td>Lot Config</td>\n",
       "      <td>5</td>\n",
       "      <td>0.727780</td>\n",
       "      <td>0.904797</td>\n",
       "    </tr>\n",
       "    <tr>\n",
       "      <th>3</th>\n",
       "      <td>Neighborhood</td>\n",
       "      <td>28</td>\n",
       "      <td>0.164001</td>\n",
       "      <td>0.252138</td>\n",
       "    </tr>\n",
       "    <tr>\n",
       "      <th>4</th>\n",
       "      <td>House Style</td>\n",
       "      <td>8</td>\n",
       "      <td>0.494980</td>\n",
       "      <td>0.787282</td>\n",
       "    </tr>\n",
       "    <tr>\n",
       "      <th>5</th>\n",
       "      <td>Exterior 1st</td>\n",
       "      <td>16</td>\n",
       "      <td>0.313499</td>\n",
       "      <td>0.477129</td>\n",
       "    </tr>\n",
       "    <tr>\n",
       "      <th>6</th>\n",
       "      <td>Exterior 2nd</td>\n",
       "      <td>16</td>\n",
       "      <td>0.309781</td>\n",
       "      <td>0.470807</td>\n",
       "    </tr>\n",
       "    <tr>\n",
       "      <th>7</th>\n",
       "      <td>Mas Vnr Type</td>\n",
       "      <td>5</td>\n",
       "      <td>0.625511</td>\n",
       "      <td>0.928226</td>\n",
       "    </tr>\n",
       "    <tr>\n",
       "      <th>8</th>\n",
       "      <td>Exter Qual</td>\n",
       "      <td>4</td>\n",
       "      <td>0.660840</td>\n",
       "      <td>0.965787</td>\n",
       "    </tr>\n",
       "    <tr>\n",
       "      <th>9</th>\n",
       "      <td>Foundation</td>\n",
       "      <td>6</td>\n",
       "      <td>0.459279</td>\n",
       "      <td>0.861659</td>\n",
       "    </tr>\n",
       "    <tr>\n",
       "      <th>10</th>\n",
       "      <td>Bsmt Qual</td>\n",
       "      <td>5</td>\n",
       "      <td>0.503161</td>\n",
       "      <td>0.905169</td>\n",
       "    </tr>\n",
       "    <tr>\n",
       "      <th>11</th>\n",
       "      <td>Bsmt Exposure</td>\n",
       "      <td>4</td>\n",
       "      <td>0.695426</td>\n",
       "      <td>0.827817</td>\n",
       "    </tr>\n",
       "    <tr>\n",
       "      <th>12</th>\n",
       "      <td>BsmtFin Type 1</td>\n",
       "      <td>6</td>\n",
       "      <td>0.304946</td>\n",
       "      <td>0.579026</td>\n",
       "    </tr>\n",
       "    <tr>\n",
       "      <th>13</th>\n",
       "      <td>Heating QC</td>\n",
       "      <td>5</td>\n",
       "      <td>0.473038</td>\n",
       "      <td>0.793232</td>\n",
       "    </tr>\n",
       "    <tr>\n",
       "      <th>14</th>\n",
       "      <td>Kitchen Qual</td>\n",
       "      <td>5</td>\n",
       "      <td>0.551134</td>\n",
       "      <td>0.925251</td>\n",
       "    </tr>\n",
       "  </tbody>\n",
       "</table>\n",
       "</div>"
      ],
      "text/plain": [
       "          variable  elements  percentage_first_element  \\\n",
       "0        MS Zoning         7                  0.774266   \n",
       "1        Lot Shape         4                  0.643362   \n",
       "2       Lot Config         5                  0.727780   \n",
       "3     Neighborhood        28                  0.164001   \n",
       "4      House Style         8                  0.494980   \n",
       "5     Exterior 1st        16                  0.313499   \n",
       "6     Exterior 2nd        16                  0.309781   \n",
       "7     Mas Vnr Type         5                  0.625511   \n",
       "8       Exter Qual         4                  0.660840   \n",
       "9       Foundation         6                  0.459279   \n",
       "10       Bsmt Qual         5                  0.503161   \n",
       "11   Bsmt Exposure         4                  0.695426   \n",
       "12  BsmtFin Type 1         6                  0.304946   \n",
       "13      Heating QC         5                  0.473038   \n",
       "14    Kitchen Qual         5                  0.551134   \n",
       "\n",
       "    percentage_second_element  \n",
       "0                    0.942730  \n",
       "1                    0.969134  \n",
       "2                    0.904797  \n",
       "3                    0.252138  \n",
       "4                    0.787282  \n",
       "5                    0.477129  \n",
       "6                    0.470807  \n",
       "7                    0.928226  \n",
       "8                    0.965787  \n",
       "9                    0.861659  \n",
       "10                   0.905169  \n",
       "11                   0.827817  \n",
       "12                   0.579026  \n",
       "13                   0.793232  \n",
       "14                   0.925251  "
      ]
     },
     "execution_count": 166,
     "metadata": {},
     "output_type": "execute_result"
    }
   ],
   "source": [
    "categorical_feat = categorical_feat[categorical_feat['percentage_first_element'] < 0.8]\n",
    "#categorical_feat = categorical_feat[categorical_feat['elements'] < 10]\n",
    "#categorical_feat = categorical_feat[categorical_feat['percentage_second_element'] < 0.9]\n",
    "\n",
    "categorical_feat"
   ]
  },
  {
   "cell_type": "code",
   "execution_count": 167,
   "metadata": {
    "collapsed": false
   },
   "outputs": [],
   "source": [
    "columns_to_keep = list(categorical_feat['variable'])\n",
    "columns_to_remove = list(categ_columns)\n",
    "for column in columns_to_keep:\n",
    "    columns_to_remove.remove(column)\n",
    "\n",
    "df = df.drop(columns_to_remove, axis=1)"
   ]
  },
  {
   "cell_type": "code",
   "execution_count": 168,
   "metadata": {
    "collapsed": false
   },
   "outputs": [
    {
     "data": {
      "text/plain": [
       "29"
      ]
     },
     "execution_count": 168,
     "metadata": {},
     "output_type": "execute_result"
    }
   ],
   "source": [
    "len(df.columns)"
   ]
  },
  {
   "cell_type": "markdown",
   "metadata": {},
   "source": [
    "There remained 28 features in the dataset (29 columns, one which is the SalePrice), and 14 of them are categorical and should be transformed to dummies when using linear regression."
   ]
  },
  {
   "cell_type": "markdown",
   "metadata": {},
   "source": [
    "#### Ranking the features"
   ]
  },
  {
   "cell_type": "markdown",
   "metadata": {},
   "source": [
    "Before using the features to predict the house sale prices, we will rank them. This rank will be done by using only these feature for predicting the sale price and returning the RMSE. The variables with the lowest RMSE will be ranked higher.\n",
    "\n",
    "This RMSE will be estimated by a division in train and test (75%/25%)."
   ]
  },
  {
   "cell_type": "code",
   "execution_count": 169,
   "metadata": {
    "collapsed": false
   },
   "outputs": [
    {
     "data": {
      "text/plain": [
       "2016.75"
      ]
     },
     "execution_count": 169,
     "metadata": {},
     "output_type": "execute_result"
    }
   ],
   "source": [
    "len(df)*0.75"
   ]
  },
  {
   "cell_type": "code",
   "execution_count": 170,
   "metadata": {
    "collapsed": false
   },
   "outputs": [],
   "source": [
    "from sklearn.metrics import mean_squared_error\n",
    "from sklearn.linear_model import LinearRegression\n",
    "\n",
    "target = ['SalePrice']\n",
    "rmse_dict = {}\n",
    "features = list(df.columns)\n",
    "features.remove('SalePrice')\n",
    "\n",
    "for col in features:\n",
    "    columns = [col, 'SalePrice']\n",
    "     \n",
    "    temp_df = pd.DataFrame(df, copy=True)\n",
    "    temp_df = temp_df[columns]\n",
    "    temp_df = pd.get_dummies(temp_df)\n",
    "    temp_train = temp_df[:2016]\n",
    "    temp_test = temp_df[2016:]\n",
    "    \n",
    "    feat = list(temp_df.columns)\n",
    "    feat.remove('SalePrice')\n",
    "    \n",
    "    lr = LinearRegression()\n",
    "    lr.fit(temp_train[feat], temp_train[target])\n",
    "    \n",
    "    predictions = lr.predict(temp_test[feat])\n",
    "    rmse = np.sqrt(mean_squared_error(predictions, temp_test[target]))\n",
    "    \n",
    "    rmse_dict[col] = rmse"
   ]
  },
  {
   "cell_type": "code",
   "execution_count": 171,
   "metadata": {
    "collapsed": false
   },
   "outputs": [
    {
     "data": {
      "text/plain": [
       "{'1st Flr SF': 55786.07641910812,\n",
       " 'Bsmt Exposure': 63227.02168381762,\n",
       " 'Bsmt Qual': 55161.37528941975,\n",
       " 'BsmtFin SF 1': 63308.24342308449,\n",
       " 'BsmtFin Type 1': 65506.9801713254,\n",
       " 'Exter Qual': 53737.08482982148,\n",
       " 'Exterior 1st': 1.2664874199826304e+16,\n",
       " 'Exterior 2nd': 67410.93485694124,\n",
       " 'Fireplaces': 59692.52976212687,\n",
       " 'Foundation': 61865.236256129705,\n",
       " 'Full Bath': 56445.88662750933,\n",
       " 'Garage Area': 57221.53815036969,\n",
       " 'Gr Liv Area': 45953.676744107055,\n",
       " 'Heating QC': 63632.677337276604,\n",
       " 'House Style': 64559.80044549134,\n",
       " 'Kitchen Qual': 54210.05662263892,\n",
       " 'Lot Config': 66993.19911072432,\n",
       " 'Lot Shape': 62972.7069541066,\n",
       " 'MS Zoning': 64177.600674189205,\n",
       " 'Mas Vnr Area': 61032.88881732326,\n",
       " 'Mas Vnr Type': 7014175644959645.0,\n",
       " 'Neighborhood': 3.0280395402380584e+16,\n",
       " 'Overall Qual': 43900.84318930496,\n",
       " 'TotRms AbvGrd': 60492.9611408133,\n",
       " 'Total Bsmt SF': 57456.506144578874,\n",
       " 'Year Built': 60894.38935519616,\n",
       " 'Years since remodel': 58776.5828434638,\n",
       " 'Years when Sold': 61107.189235259946}"
      ]
     },
     "execution_count": 171,
     "metadata": {},
     "output_type": "execute_result"
    }
   ],
   "source": [
    "rmse_dict"
   ]
  },
  {
   "cell_type": "code",
   "execution_count": 172,
   "metadata": {
    "collapsed": false
   },
   "outputs": [
    {
     "data": {
      "text/plain": [
       "Overall Qual           4.390084e+04\n",
       "Gr Liv Area            4.595368e+04\n",
       "Exter Qual             5.373708e+04\n",
       "Kitchen Qual           5.421006e+04\n",
       "Bsmt Qual              5.516138e+04\n",
       "1st Flr SF             5.578608e+04\n",
       "Full Bath              5.644589e+04\n",
       "Garage Area            5.722154e+04\n",
       "Total Bsmt SF          5.745651e+04\n",
       "Years since remodel    5.877658e+04\n",
       "Fireplaces             5.969253e+04\n",
       "TotRms AbvGrd          6.049296e+04\n",
       "Year Built             6.089439e+04\n",
       "Mas Vnr Area           6.103289e+04\n",
       "Years when Sold        6.110719e+04\n",
       "Foundation             6.186524e+04\n",
       "Lot Shape              6.297271e+04\n",
       "Bsmt Exposure          6.322702e+04\n",
       "BsmtFin SF 1           6.330824e+04\n",
       "Heating QC             6.363268e+04\n",
       "MS Zoning              6.417760e+04\n",
       "House Style            6.455980e+04\n",
       "BsmtFin Type 1         6.550698e+04\n",
       "Lot Config             6.699320e+04\n",
       "Exterior 2nd           6.741093e+04\n",
       "Mas Vnr Type           7.014176e+15\n",
       "Exterior 1st           1.266487e+16\n",
       "Neighborhood           3.028040e+16\n",
       "Name: RMSE, dtype: float64"
      ]
     },
     "execution_count": 172,
     "metadata": {},
     "output_type": "execute_result"
    }
   ],
   "source": [
    "variables_df = pd.DataFrame.from_dict(rmse_dict, orient='index')\n",
    "variables_df['RMSE'] = variables_df[0]\n",
    "variables_df = variables_df.drop(0, axis=1)\n",
    "sorted_df = variables_df['RMSE'].sort_values()\n",
    "sorted_df"
   ]
  },
  {
   "cell_type": "markdown",
   "metadata": {},
   "source": [
    "### 4 - Predicting and evaluating model error"
   ]
  },
  {
   "cell_type": "markdown",
   "metadata": {},
   "source": [
    "In the last step, we ordered the 28 variables according to their RMSE. Now, we will iterate trough each number of variables (from 1 to 29) and collecting the RMSE for each quantity. The RMSE will be estimated by using a 5-fold cross validation."
   ]
  },
  {
   "cell_type": "code",
   "execution_count": 139,
   "metadata": {
    "collapsed": false
   },
   "outputs": [],
   "source": [
    "from sklearn.model_selection import cross_val_score, KFold\n",
    "from sklearn.metrics import mean_squared_error\n",
    "\n",
    "features_list = list(sorted_df.index)\n",
    "avg_rmse_list = []\n",
    "\n",
    "for i in range(1, len(features_list)+1):\n",
    "    features = features_list[:i]\n",
    "    temp_df = pd.DataFrame(df, copy=True)\n",
    "    train = temp_df[features]\n",
    "    train = pd.get_dummies(train)\n",
    "    test = temp_df['SalePrice']\n",
    "    \n",
    "    kf = KFold(n_splits=5, shuffle=True, random_state=1)\n",
    "\n",
    "    model = LinearRegression()\n",
    "\n",
    "    mses = cross_val_score(model, train, test, scoring='neg_mean_squared_error', cv=kf)\n",
    "    rmses = np.sqrt(np.absolute(mses))\n",
    "    avg_rmse = np.mean(rmses)\n",
    "    avg_rmse_list.append(avg_rmse)\n",
    "    \n"
   ]
  },
  {
   "cell_type": "code",
   "execution_count": 148,
   "metadata": {
    "collapsed": false
   },
   "outputs": [
    {
     "name": "stdout",
     "output_type": "stream",
     "text": [
      "1: 44350.80272046152\n",
      "2: 36901.42944031959\n",
      "3: 34340.46533830282\n",
      "4: 33302.2659791633\n",
      "5: 31526.569091380305\n",
      "6: 29673.325533130293\n",
      "7: 29558.938578061905\n",
      "8: 28848.91821886719\n",
      "9: 28158.87321969201\n",
      "10: 27885.922349653392\n",
      "11: 27361.054711990048\n",
      "12: 27198.204442744805\n",
      "13: 26795.440394639398\n",
      "14: 26657.61679359919\n",
      "15: 26641.189114949328\n",
      "16: 26606.410041624546\n",
      "17: 26410.85316478015\n",
      "18: 25893.221476201223\n",
      "19: 25168.521360673658\n",
      "20: 25040.935541864656\n",
      "21: 24787.50154821673\n",
      "22: 24761.84788857273\n",
      "23: 24808.24760683097\n",
      "24: 24751.31389384578\n",
      "25: 24933.335056430882\n",
      "26: 24760.915813456868\n",
      "27: 25294.699261246882\n",
      "28: 24219.561274165575\n"
     ]
    }
   ],
   "source": [
    "for i in range(1, len(features_list) + 1):\n",
    "    print(str(i) + ': ' + str(avg_rmse_list[i - 1]))"
   ]
  },
  {
   "cell_type": "code",
   "execution_count": 142,
   "metadata": {
    "collapsed": false
   },
   "outputs": [
    {
     "data": {
      "text/plain": [
       "<matplotlib.text.Text at 0x7fc5ac880b70>"
      ]
     },
     "execution_count": 142,
     "metadata": {},
     "output_type": "execute_result"
    },
    {
     "data": {
      "image/png": "[encoded data removed]",
      "text/plain": [
       "<matplotlib.figure.Figure at 0x7fc5ac86d518>"
      ]
     },
     "metadata": {},
     "output_type": "display_data"
    }
   ],
   "source": [
    "plt.style.use('fivethirtyeight')\n",
    "\n",
    "y = avg_rmse_list\n",
    "x = [i for i in range(1, len(features_list) + 1)]\n",
    "plt.plot(x,y)\n",
    "plt.title(\"Average RMSE for sets of features\")\n",
    "plt.xlabel('Features')\n",
    "plt.ylabel(\"Avg RMSE\")"
   ]
  },
  {
   "cell_type": "markdown",
   "metadata": {},
   "source": [
    "### Conclusion"
   ]
  },
  {
   "cell_type": "markdown",
   "metadata": {},
   "source": [
    "The lowest error (24,219) was obtained when using all the 28 variables. But using 19 variables, we obtained an average RMSE of 25,168, an error 3.9% higher with 68% of the variables. So, for purposes of model simplicity and reducing overfitting, we will define the best model as the one with 19 variables.\n",
    "\n",
    "Those selected variables are: Overall Qual, Gr Liv Area, Exter Qual, Kitchen Qual, Bsmt Qual, 1st Flr SF, Full Bath, Garage Area, Total Bsmt SF, Years since remodel, Fireplaces, TotRms AbvGrd, Year Built, Mas Vnr Area, Years when Sold, Foundation, Lot Shape, Bsmt Exposure and BsmtFin SF 1.\n",
    "\n"
   ]
  }
 ],
 "metadata": {
  "anaconda-cloud": {},
  "kernelspec": {
   "display_name": "Python 3",
   "language": "python",
   "name": "python3"
  },
  "language_info": {
   "codemirror_mode": {
    "name": "ipython",
    "version": 3
   },
   "file_extension": ".py",
   "mimetype": "text/x-python",
   "name": "python",
   "nbconvert_exporter": "python",
   "pygments_lexer": "ipython3",
   "version": "3.4.3"
  }
 },
 "nbformat": 4,
 "nbformat_minor": 2
}
